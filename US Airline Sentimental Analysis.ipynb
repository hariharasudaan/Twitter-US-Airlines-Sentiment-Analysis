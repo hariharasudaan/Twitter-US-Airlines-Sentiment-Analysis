{
  "nbformat": 4,
  "nbformat_minor": 0,
  "metadata": {
    "colab": {
      "name": "Copy of Fellowship-Challenge-Problem(ULMFiT Sentiment).ipynb",
      "provenance": [],
      "collapsed_sections": [
        "AXp0_ESwzUAw",
        "-1XALUYQzhlQ",
        "e0nRaYQmwBC1",
        "N9U4jdQ0J4VF",
        "JPDvSVhqIl4k"
      ],
      "toc_visible": true
    },
    "kernelspec": {
      "name": "python3",
      "display_name": "Python 3"
    }
  },
  "cells": [
    {
      "cell_type": "markdown",
      "metadata": {
        "id": "56arGVpZIJtE",
        "colab_type": "text"
      },
      "source": [
        "***A sentiment analysis job about the problems of each major U.S. airline.***\n",
        "\n",
        "Link to the dataset from Kaggle: https://www.kaggle.com/crowdflower/twitter-airline-sentiment#Tweets.csv"
      ]
    },
    {
      "cell_type": "markdown",
      "metadata": {
        "id": "i0dt2rF_Yu1l",
        "colab_type": "text"
      },
      "source": [
        "We will be creating a ULMFiT model that can possibly perform sentimental analysis by classifying the tweets for the Twitter US Airline Sentiment dataset. \n",
        "\n",
        "Virgin America, United, Southwest, Delta, US Airways and American Airlines are the six airline companies for which the analysis will be performed. We will train the model to identify whether the tweets are positive, neutral or negative. This task would be very challenging without ULMFiT due to the size of the dataset. Since, the tweets are lesser in length we have very little information and the dataset itself is unbalanced (The number of Negative reviews is greater than the combined count of positive and neutral reviews). \n",
        "\n",
        "Thanks to ULMFiT for providing us with a great concept to work when we have lesser data to perform sentimental analysis.\n",
        "\n",
        "Let's Go!\n",
        "\n"
      ]
    },
    {
      "cell_type": "markdown",
      "metadata": {
        "id": "AXp0_ESwzUAw",
        "colab_type": "text"
      },
      "source": [
        "## **Importing the Libraries and the Dataset**"
      ]
    },
    {
      "cell_type": "code",
      "metadata": {
        "id": "H7O_gbrbHufm",
        "colab_type": "code",
        "colab": {
          "base_uri": "https://localhost:8080/",
          "height": 72
        },
        "outputId": "78cd7da6-3ed6-412c-e689-d7389aeb2edd"
      },
      "source": [
        "# importing the libraries\n",
        "import numpy as np\n",
        "import pandas as pd\n",
        "import matplotlib.pyplot as plt\n",
        "import seaborn as sns\n",
        "%matplotlib inline"
      ],
      "execution_count": null,
      "outputs": [
        {
          "output_type": "stream",
          "text": [
            "/usr/local/lib/python3.6/dist-packages/statsmodels/tools/_testing.py:19: FutureWarning: pandas.util.testing is deprecated. Use the functions in the public API at pandas.testing instead.\n",
            "  import pandas.util.testing as tm\n"
          ],
          "name": "stderr"
        }
      ]
    },
    {
      "cell_type": "code",
      "metadata": {
        "id": "ZlZyule2If1g",
        "colab_type": "code",
        "colab": {
          "base_uri": "https://localhost:8080/",
          "height": 433
        },
        "outputId": "f16185bc-ba86-4a93-9777-66905888a52c"
      },
      "source": [
        "# importing the dataset\n",
        "dataset = pd.read_csv(\"Tweets.csv\")\n",
        "dataset.head()"
      ],
      "execution_count": null,
      "outputs": [
        {
          "output_type": "execute_result",
          "data": {
            "text/html": [
              "<div>\n",
              "<style scoped>\n",
              "    .dataframe tbody tr th:only-of-type {\n",
              "        vertical-align: middle;\n",
              "    }\n",
              "\n",
              "    .dataframe tbody tr th {\n",
              "        vertical-align: top;\n",
              "    }\n",
              "\n",
              "    .dataframe thead th {\n",
              "        text-align: right;\n",
              "    }\n",
              "</style>\n",
              "<table border=\"1\" class=\"dataframe\">\n",
              "  <thead>\n",
              "    <tr style=\"text-align: right;\">\n",
              "      <th></th>\n",
              "      <th>tweet_id</th>\n",
              "      <th>airline_sentiment</th>\n",
              "      <th>airline_sentiment_confidence</th>\n",
              "      <th>negativereason</th>\n",
              "      <th>negativereason_confidence</th>\n",
              "      <th>airline</th>\n",
              "      <th>airline_sentiment_gold</th>\n",
              "      <th>name</th>\n",
              "      <th>negativereason_gold</th>\n",
              "      <th>retweet_count</th>\n",
              "      <th>text</th>\n",
              "      <th>tweet_coord</th>\n",
              "      <th>tweet_created</th>\n",
              "      <th>tweet_location</th>\n",
              "      <th>user_timezone</th>\n",
              "    </tr>\n",
              "  </thead>\n",
              "  <tbody>\n",
              "    <tr>\n",
              "      <th>0</th>\n",
              "      <td>570306133677760513</td>\n",
              "      <td>neutral</td>\n",
              "      <td>1.0000</td>\n",
              "      <td>NaN</td>\n",
              "      <td>NaN</td>\n",
              "      <td>Virgin America</td>\n",
              "      <td>NaN</td>\n",
              "      <td>cairdin</td>\n",
              "      <td>NaN</td>\n",
              "      <td>0</td>\n",
              "      <td>@VirginAmerica What @dhepburn said.</td>\n",
              "      <td>NaN</td>\n",
              "      <td>2015-02-24 11:35:52 -0800</td>\n",
              "      <td>NaN</td>\n",
              "      <td>Eastern Time (US &amp; Canada)</td>\n",
              "    </tr>\n",
              "    <tr>\n",
              "      <th>1</th>\n",
              "      <td>570301130888122368</td>\n",
              "      <td>positive</td>\n",
              "      <td>0.3486</td>\n",
              "      <td>NaN</td>\n",
              "      <td>0.0000</td>\n",
              "      <td>Virgin America</td>\n",
              "      <td>NaN</td>\n",
              "      <td>jnardino</td>\n",
              "      <td>NaN</td>\n",
              "      <td>0</td>\n",
              "      <td>@VirginAmerica plus you've added commercials t...</td>\n",
              "      <td>NaN</td>\n",
              "      <td>2015-02-24 11:15:59 -0800</td>\n",
              "      <td>NaN</td>\n",
              "      <td>Pacific Time (US &amp; Canada)</td>\n",
              "    </tr>\n",
              "    <tr>\n",
              "      <th>2</th>\n",
              "      <td>570301083672813571</td>\n",
              "      <td>neutral</td>\n",
              "      <td>0.6837</td>\n",
              "      <td>NaN</td>\n",
              "      <td>NaN</td>\n",
              "      <td>Virgin America</td>\n",
              "      <td>NaN</td>\n",
              "      <td>yvonnalynn</td>\n",
              "      <td>NaN</td>\n",
              "      <td>0</td>\n",
              "      <td>@VirginAmerica I didn't today... Must mean I n...</td>\n",
              "      <td>NaN</td>\n",
              "      <td>2015-02-24 11:15:48 -0800</td>\n",
              "      <td>Lets Play</td>\n",
              "      <td>Central Time (US &amp; Canada)</td>\n",
              "    </tr>\n",
              "    <tr>\n",
              "      <th>3</th>\n",
              "      <td>570301031407624196</td>\n",
              "      <td>negative</td>\n",
              "      <td>1.0000</td>\n",
              "      <td>Bad Flight</td>\n",
              "      <td>0.7033</td>\n",
              "      <td>Virgin America</td>\n",
              "      <td>NaN</td>\n",
              "      <td>jnardino</td>\n",
              "      <td>NaN</td>\n",
              "      <td>0</td>\n",
              "      <td>@VirginAmerica it's really aggressive to blast...</td>\n",
              "      <td>NaN</td>\n",
              "      <td>2015-02-24 11:15:36 -0800</td>\n",
              "      <td>NaN</td>\n",
              "      <td>Pacific Time (US &amp; Canada)</td>\n",
              "    </tr>\n",
              "    <tr>\n",
              "      <th>4</th>\n",
              "      <td>570300817074462722</td>\n",
              "      <td>negative</td>\n",
              "      <td>1.0000</td>\n",
              "      <td>Can't Tell</td>\n",
              "      <td>1.0000</td>\n",
              "      <td>Virgin America</td>\n",
              "      <td>NaN</td>\n",
              "      <td>jnardino</td>\n",
              "      <td>NaN</td>\n",
              "      <td>0</td>\n",
              "      <td>@VirginAmerica and it's a really big bad thing...</td>\n",
              "      <td>NaN</td>\n",
              "      <td>2015-02-24 11:14:45 -0800</td>\n",
              "      <td>NaN</td>\n",
              "      <td>Pacific Time (US &amp; Canada)</td>\n",
              "    </tr>\n",
              "  </tbody>\n",
              "</table>\n",
              "</div>"
            ],
            "text/plain": [
              "             tweet_id  ...               user_timezone\n",
              "0  570306133677760513  ...  Eastern Time (US & Canada)\n",
              "1  570301130888122368  ...  Pacific Time (US & Canada)\n",
              "2  570301083672813571  ...  Central Time (US & Canada)\n",
              "3  570301031407624196  ...  Pacific Time (US & Canada)\n",
              "4  570300817074462722  ...  Pacific Time (US & Canada)\n",
              "\n",
              "[5 rows x 15 columns]"
            ]
          },
          "metadata": {
            "tags": []
          },
          "execution_count": 2
        }
      ]
    },
    {
      "cell_type": "markdown",
      "metadata": {
        "id": "-1XALUYQzhlQ",
        "colab_type": "text"
      },
      "source": [
        "## **Data Analysis & Visualization**"
      ]
    },
    {
      "cell_type": "markdown",
      "metadata": {
        "id": "_uqzWva66wTa",
        "colab_type": "text"
      },
      "source": [
        "### **About the Dataset**"
      ]
    },
    {
      "cell_type": "markdown",
      "metadata": {
        "id": "seILWzTNMVE3",
        "colab_type": "text"
      },
      "source": [
        "**What does these columns in the dataset represents?**\n",
        "1. *tweet_id* - The id of the tweet by the customer\n",
        "2. *airline_sentiment* - Whether the airline sentiment is \"neutral\", \"positive\", or \"negative\". It's the sentiment of the airline itself and not the tweets.\n",
        "3. \"*airline_sentiment_confidence*\" - Confidence score of the airline.\n",
        "4. \"*negativereason*\" - Reason is given in the form of text data only for negative review tweets\n",
        "5. \"*negativereason_confidence*\" - The confidence score of the reason for negative review tweets\n",
        "6. \"*airline*\" - The name of the airline\n",
        "8. \"*name*\" - Name of the person who tweeted\n",
        "10. \"*retweet_count*\" - The number of the reposted or forwarded tweets by other users.\n",
        "11. \"*text*\" - The tweet by the customer\n",
        "13. \"*tweet_created*\" - The time and date when the tweet was created\n",
        "14. \"*tweet_location*\" - The location from when the user posted the tweet\n",
        "15. \"user_timezone\" - The timezone from when the user posted the tweet"
      ]
    },
    {
      "cell_type": "code",
      "metadata": {
        "id": "Zl6ymIElIrjq",
        "colab_type": "code",
        "colab": {
          "base_uri": "https://localhost:8080/",
          "height": 408
        },
        "outputId": "ce6dced0-c8df-4eef-8d64-702ab3b65c63"
      },
      "source": [
        "dataset.info()"
      ],
      "execution_count": null,
      "outputs": [
        {
          "output_type": "stream",
          "text": [
            "<class 'pandas.core.frame.DataFrame'>\n",
            "RangeIndex: 14640 entries, 0 to 14639\n",
            "Data columns (total 15 columns):\n",
            " #   Column                        Non-Null Count  Dtype  \n",
            "---  ------                        --------------  -----  \n",
            " 0   tweet_id                      14640 non-null  int64  \n",
            " 1   airline_sentiment             14640 non-null  object \n",
            " 2   airline_sentiment_confidence  14640 non-null  float64\n",
            " 3   negativereason                9178 non-null   object \n",
            " 4   negativereason_confidence     10522 non-null  float64\n",
            " 5   airline                       14640 non-null  object \n",
            " 6   airline_sentiment_gold        40 non-null     object \n",
            " 7   name                          14640 non-null  object \n",
            " 8   negativereason_gold           32 non-null     object \n",
            " 9   retweet_count                 14640 non-null  int64  \n",
            " 10  text                          14640 non-null  object \n",
            " 11  tweet_coord                   1019 non-null   object \n",
            " 12  tweet_created                 14640 non-null  object \n",
            " 13  tweet_location                9907 non-null   object \n",
            " 14  user_timezone                 9820 non-null   object \n",
            "dtypes: float64(2), int64(2), object(11)\n",
            "memory usage: 1.7+ MB\n"
          ],
          "name": "stdout"
        }
      ]
    },
    {
      "cell_type": "markdown",
      "metadata": {
        "id": "MSlEBLObJrHm",
        "colab_type": "text"
      },
      "source": [
        "**Some insights about the dataset**\n",
        "> Total Number of **Rows** in the dataset = **14640**\n",
        "\n",
        "> Total Number of **Columns** in the dataset = **15**\n",
        "\n",
        "> It seems that there are some missing values, Lets check that now!"
      ]
    },
    {
      "cell_type": "markdown",
      "metadata": {
        "id": "YM-9PYRrw4cd",
        "colab_type": "text"
      },
      "source": [
        "### **Distribution of all the categorical variables in the Dataset**"
      ]
    },
    {
      "cell_type": "markdown",
      "metadata": {
        "id": "FAXsm52hjwd9",
        "colab_type": "text"
      },
      "source": [
        "**Let's check what are the values in each of the columns and their distribution**"
      ]
    },
    {
      "cell_type": "code",
      "metadata": {
        "id": "htYb5qYbjViV",
        "colab_type": "code",
        "colab": {
          "base_uri": "https://localhost:8080/",
          "height": 1000
        },
        "outputId": "6729dbb3-045d-4290-fbff-12a26a29c60a"
      },
      "source": [
        "# Find the distribution of the variables\n",
        "columns = ['airline_sentiment', 'negativereason', 'airline', 'airline_sentiment_gold', 'negativereason_gold', 'retweet_count']\n",
        "columns = dataset[columns]\n",
        "for temp in columns:\n",
        "    print(f'---------------------------------------  {temp}  ---------------------------------------')\n",
        "    print(dataset[temp].value_counts())\n",
        "    print(\"\\n\")"
      ],
      "execution_count": null,
      "outputs": [
        {
          "output_type": "stream",
          "text": [
            "---------------------------------------  airline_sentiment  ---------------------------------------\n",
            "negative    9178\n",
            "neutral     3099\n",
            "positive    2363\n",
            "Name: airline_sentiment, dtype: int64\n",
            "\n",
            "\n",
            "---------------------------------------  negativereason  ---------------------------------------\n",
            "Customer Service Issue         2910\n",
            "Late Flight                    1665\n",
            "Can't Tell                     1190\n",
            "Cancelled Flight                847\n",
            "Lost Luggage                    724\n",
            "Bad Flight                      580\n",
            "Flight Booking Problems         529\n",
            "Flight Attendant Complaints     481\n",
            "longlines                       178\n",
            "Damaged Luggage                  74\n",
            "Name: negativereason, dtype: int64\n",
            "\n",
            "\n",
            "---------------------------------------  airline  ---------------------------------------\n",
            "United            3822\n",
            "US Airways        2913\n",
            "American          2759\n",
            "Southwest         2420\n",
            "Delta             2222\n",
            "Virgin America     504\n",
            "Name: airline, dtype: int64\n",
            "\n",
            "\n",
            "---------------------------------------  airline_sentiment_gold  ---------------------------------------\n",
            "negative    32\n",
            "positive     5\n",
            "neutral      3\n",
            "Name: airline_sentiment_gold, dtype: int64\n",
            "\n",
            "\n",
            "---------------------------------------  negativereason_gold  ---------------------------------------\n",
            "Customer Service Issue                      12\n",
            "Late Flight                                  4\n",
            "Can't Tell                                   3\n",
            "Cancelled Flight                             3\n",
            "Cancelled Flight\\nCustomer Service Issue     2\n",
            "Bad Flight                                   1\n",
            "Late Flight\\nLost Luggage                    1\n",
            "Late Flight\\nCancelled Flight                1\n",
            "Flight Attendant Complaints                  1\n",
            "Lost Luggage\\nDamaged Luggage                1\n",
            "Customer Service Issue\\nLost Luggage         1\n",
            "Late Flight\\nFlight Attendant Complaints     1\n",
            "Customer Service Issue\\nCan't Tell           1\n",
            "Name: negativereason_gold, dtype: int64\n",
            "\n",
            "\n",
            "---------------------------------------  retweet_count  ---------------------------------------\n",
            "0     13873\n",
            "1       640\n",
            "2        66\n",
            "3        22\n",
            "4        17\n",
            "5         5\n",
            "7         3\n",
            "6         3\n",
            "22        2\n",
            "8         1\n",
            "32        1\n",
            "9         1\n",
            "31        1\n",
            "18        1\n",
            "15        1\n",
            "28        1\n",
            "44        1\n",
            "11        1\n",
            "Name: retweet_count, dtype: int64\n",
            "\n",
            "\n"
          ],
          "name": "stdout"
        }
      ]
    },
    {
      "cell_type": "markdown",
      "metadata": {
        "id": "dIdZpXLLyKbX",
        "colab_type": "text"
      },
      "source": [
        "### **Initial Cleaning on the Dataset**"
      ]
    },
    {
      "cell_type": "markdown",
      "metadata": {
        "id": "2WRXh4PFg0P8",
        "colab_type": "text"
      },
      "source": [
        "**Deleting the  Tweet_id and name columns because it won't help us perform the analysis in any way**"
      ]
    },
    {
      "cell_type": "code",
      "metadata": {
        "id": "Nf2Ww5tegt2Z",
        "colab_type": "code",
        "colab": {}
      },
      "source": [
        "dataset = dataset.drop(['tweet_id', 'name'], axis = 1)"
      ],
      "execution_count": null,
      "outputs": []
    },
    {
      "cell_type": "markdown",
      "metadata": {
        "id": "bP-XciYphOR_",
        "colab_type": "text"
      },
      "source": [
        "**Let's check how many NULL values are there in each of the columns**"
      ]
    },
    {
      "cell_type": "code",
      "metadata": {
        "id": "_fGcbZANgGe1",
        "colab_type": "code",
        "colab": {
          "base_uri": "https://localhost:8080/",
          "height": 266
        },
        "outputId": "d4841d5d-218c-4f39-e905-375885398e38"
      },
      "source": [
        "# To Check the Null values\n",
        "NullValues = pd.DataFrame(dataset.isnull().sum())\n",
        "NullValues.columns = ['Number of Null Values']\n",
        "print(NullValues)"
      ],
      "execution_count": null,
      "outputs": [
        {
          "output_type": "stream",
          "text": [
            "                              Number of Null Values\n",
            "airline_sentiment                                 0\n",
            "airline_sentiment_confidence                      0\n",
            "negativereason                                 5462\n",
            "negativereason_confidence                      4118\n",
            "airline                                           0\n",
            "airline_sentiment_gold                        14600\n",
            "negativereason_gold                           14608\n",
            "retweet_count                                     0\n",
            "text                                              0\n",
            "tweet_coord                                   13621\n",
            "tweet_created                                     0\n",
            "tweet_location                                 4733\n",
            "user_timezone                                  4820\n"
          ],
          "name": "stdout"
        }
      ]
    },
    {
      "cell_type": "code",
      "metadata": {
        "id": "QnTdUCoGhZlY",
        "colab_type": "code",
        "colab": {
          "base_uri": "https://localhost:8080/",
          "height": 436
        },
        "outputId": "6d3c05f1-c0e5-4045-ba8b-b4906403c4be"
      },
      "source": [
        "# Visualize the null values \n",
        "sns.heatmap(dataset.isnull(), yticklabels=False, cbar=False, cmap=\"coolwarm\")\n",
        "plt.title(\"NULL Fields Representation\")"
      ],
      "execution_count": null,
      "outputs": [
        {
          "output_type": "execute_result",
          "data": {
            "text/plain": [
              "Text(0.5, 1.0, 'NULL Fields Representation')"
            ]
          },
          "metadata": {
            "tags": []
          },
          "execution_count": 7
        },
        {
          "output_type": "display_data",
          "data": {
            "image/png": "[encoded data removed]",
            "text/plain": [
              "<Figure size 432x288 with 1 Axes>"
            ]
          },
          "metadata": {
            "tags": [],
            "needs_background": "light"
          }
        }
      ]
    },
    {
      "cell_type": "markdown",
      "metadata": {
        "id": "IwNd1RmlhwfW",
        "colab_type": "text"
      },
      "source": [
        "**We can delete the columns \"airline_sentiment_gold\", \"tewwt_coord\" and \"negativereason_gold\", because more than 99% of the data they have the null values**"
      ]
    },
    {
      "cell_type": "code",
      "metadata": {
        "id": "Jdvo-rwnhqSa",
        "colab_type": "code",
        "colab": {}
      },
      "source": [
        "dataset = dataset.drop(['airline_sentiment_gold', 'negativereason_gold', 'tweet_coord'], axis = 1)"
      ],
      "execution_count": null,
      "outputs": []
    },
    {
      "cell_type": "markdown",
      "metadata": {
        "id": "EfAIMPyV-DjV",
        "colab_type": "text"
      },
      "source": [
        "**Let's remove the rows which has the white spaces in the text column**"
      ]
    },
    {
      "cell_type": "code",
      "metadata": {
        "id": "l7RRF95q-JiL",
        "colab_type": "code",
        "colab": {
          "base_uri": "https://localhost:8080/",
          "height": 35
        },
        "outputId": "c50efc05-553e-49a7-c563-c9d6f0b0d8ef"
      },
      "source": [
        "blanks = []\n",
        "updatedDataSet = pd.DataFrame(dataset['text'])\n",
        "for index, text in updatedDataSet.itertuples():\n",
        "  if type(text)==str:\n",
        "    if text.isspace():\n",
        "      blanks.append(index)\n",
        "print(blanks)"
      ],
      "execution_count": null,
      "outputs": [
        {
          "output_type": "stream",
          "text": [
            "[]\n"
          ],
          "name": "stdout"
        }
      ]
    },
    {
      "cell_type": "markdown",
      "metadata": {
        "id": "2eVzn5KD_pmq",
        "colab_type": "text"
      },
      "source": [
        "There are no blanks in the text column. That's great! So no need to delete any rows."
      ]
    },
    {
      "cell_type": "code",
      "metadata": {
        "id": "R1opCx36mRrG",
        "colab_type": "code",
        "colab": {
          "base_uri": "https://localhost:8080/",
          "height": 319
        },
        "outputId": "1c9aed83-3cc5-4f73-bba0-ad665bbdbebc"
      },
      "source": [
        "dataset.info()"
      ],
      "execution_count": null,
      "outputs": [
        {
          "output_type": "stream",
          "text": [
            "<class 'pandas.core.frame.DataFrame'>\n",
            "RangeIndex: 14640 entries, 0 to 14639\n",
            "Data columns (total 10 columns):\n",
            " #   Column                        Non-Null Count  Dtype  \n",
            "---  ------                        --------------  -----  \n",
            " 0   airline_sentiment             14640 non-null  object \n",
            " 1   airline_sentiment_confidence  14640 non-null  float64\n",
            " 2   negativereason                9178 non-null   object \n",
            " 3   negativereason_confidence     10522 non-null  float64\n",
            " 4   airline                       14640 non-null  object \n",
            " 5   retweet_count                 14640 non-null  int64  \n",
            " 6   text                          14640 non-null  object \n",
            " 7   tweet_created                 14640 non-null  object \n",
            " 8   tweet_location                9907 non-null   object \n",
            " 9   user_timezone                 9820 non-null   object \n",
            "dtypes: float64(2), int64(1), object(7)\n",
            "memory usage: 1.1+ MB\n"
          ],
          "name": "stdout"
        }
      ]
    },
    {
      "cell_type": "markdown",
      "metadata": {
        "id": "IlNrkNrfnZ3j",
        "colab_type": "text"
      },
      "source": [
        "**From the above observations, it looks like the column \"airline_sentiment\" as the target variable**"
      ]
    },
    {
      "cell_type": "markdown",
      "metadata": {
        "id": "sLwCu__a7qKp",
        "colab_type": "text"
      },
      "source": [
        "### **Detailed Analysis**"
      ]
    },
    {
      "cell_type": "markdown",
      "metadata": {
        "id": "gTrKLF3XGdwJ",
        "colab_type": "text"
      },
      "source": [
        "#### **Analysis by the Different Airlines**"
      ]
    },
    {
      "cell_type": "code",
      "metadata": {
        "id": "BM7XcX5hpKJg",
        "colab_type": "code",
        "colab": {
          "base_uri": "https://localhost:8080/",
          "height": 657
        },
        "outputId": "ee0ac87f-02e8-41f9-abe2-3a417ed31c4a"
      },
      "source": [
        "import matplotlib.pyplot as plt\n",
        "from matplotlib.patches import ConnectionPatch\n",
        "import numpy as np\n",
        "\n",
        "# make figure and assign axis objects\n",
        "fig = plt.figure(figsize=(13, 9.0625))\n",
        "ax1 = fig.add_subplot(121)\n",
        "ax2 = fig.add_subplot(122)\n",
        "fig.subplots_adjust(wspace=0)\n",
        "fig.tight_layout()\n",
        "fig.suptitle('% of tweets by different airlines', fontsize=20)\n",
        "\n",
        "\n",
        "# pie chart parameters\n",
        "a = (dataset[['airline', 'text']].groupby('airline').count()/len(dataset)).sort_values(by='text', ascending=True).mul(100)\n",
        "ratios = a.text\n",
        "labels = a.index\n",
        "explode = [0, 0, 0, 0, 0, 0.1]\n",
        "# rotate so that first wedge is split by the x-axis\n",
        "angle = -195 * ratios[0]\n",
        "ax1.pie(ratios, autopct='%1.1f%%', startangle=angle,\n",
        "        labels=labels, explode=explode)\n",
        "\n",
        "# bar chart parameters\n",
        "xpos = 0\n",
        "bottom = 0\n",
        "b = pd.crosstab(dataset.airline,dataset.airline_sentiment)\n",
        "b.iloc[4,:]\n",
        "ratios = b.iloc[4,:]\n",
        "width = .2\n",
        "colors = ['y', 'c', 'm']\n",
        "\n",
        "for j in range(len(ratios)):\n",
        "    height = ratios[j]\n",
        "    ax2.bar(xpos, height, width, bottom=bottom, color=colors[j])\n",
        "    ypos = bottom + ax2.patches[j].get_height() / 2\n",
        "    bottom += height\n",
        "    ax2.text(xpos, ypos, (ax2.patches[j].get_height()),\n",
        "             ha='center')\n",
        "\n",
        "ax2.set_title('No. of Tweets')\n",
        "ax2.legend(('Negative', 'Neutral', 'Positive'))\n",
        "ax2.axis('off')\n",
        "ax2.set_xlim(- 2.5 * width, 2.5 * width)\n",
        "\n",
        "# use ConnectionPatch to draw lines between the two plots\n",
        "# get the wedge data\n",
        "theta1, theta2 = ax1.patches[5].theta1, ax1.patches[5].theta2\n",
        "center, r = ax1.patches[5].center, ax1.patches[5].r\n",
        "bar_height = sum([item.get_height() for item in ax2.patches])\n",
        "\n",
        "# draw top connecting line\n",
        "x = r * np.cos(np.pi / 180 * theta2) + center[0]\n",
        "y = np.sin(np.pi / 180 * theta2) + center[1]\n",
        "con = ConnectionPatch(xyA=(- width / 2, bar_height), xyB=(x, y),\n",
        "                      coordsA=\"data\", coordsB=\"data\", axesA=ax2, axesB=ax1)\n",
        "con.set_linewidth(2)\n",
        "ax2.add_artist(con)\n",
        "\n",
        "# draw bottom connecting line\n",
        "x = r * np.cos(np.pi / 180 * theta1) + center[0]\n",
        "y = np.sin(np.pi / 180 * theta1) + center[1]\n",
        "con = ConnectionPatch(xyA=(- width / 2, 0), xyB=(x, y), coordsA=\"data\",\n",
        "                      coordsB=\"data\", axesA=ax2, axesB=ax1)\n",
        "ax2.add_artist(con)\n",
        "con.set_linewidth(2)\n",
        "\n",
        "plt.show()"
      ],
      "execution_count": null,
      "outputs": [
        {
          "output_type": "display_data",
          "data": {
            "image/png": "[encoded data removed]",
            "text/plain": [
              "<Figure size 936x652.5 with 2 Axes>"
            ]
          },
          "metadata": {
            "tags": [],
            "needs_background": "light"
          }
        }
      ]
    },
    {
      "cell_type": "markdown",
      "metadata": {
        "id": "2DJSjnBPoutJ",
        "colab_type": "text"
      },
      "source": [
        "\n",
        "\n",
        "> **Insights from the pie chart above**\n",
        "\n",
        "\n",
        "*   From the above pie-chart we can see that a large number of tweets were for **UNITED** airlines. \n",
        "*   **Virgin** Airways has got the least number of tweets.\n",
        "*   To the right side of the chart, we can find the number of tweets posted for the United airlines.\n",
        "*   There were a lot of negative sentiment tweets. Its **4x** times the tweets which has a sentiment of neutral and **5x** times the tweets which has a sentiment of positive.\n"
      ]
    },
    {
      "cell_type": "code",
      "metadata": {
        "id": "NKSqXCM50Kib",
        "colab_type": "code",
        "colab": {}
      },
      "source": [
        "airline_sentiment_distribution = pd.crosstab(dataset.airline,dataset.airline_sentiment)\n",
        "#airline_sentiment_distribution"
      ],
      "execution_count": null,
      "outputs": []
    },
    {
      "cell_type": "code",
      "metadata": {
        "id": "b27HdoZK1BZk",
        "colab_type": "code",
        "colab": {
          "base_uri": "https://localhost:8080/",
          "height": 435
        },
        "outputId": "c44219db-3541-4056-fa3f-388c1c3a85c3"
      },
      "source": [
        "category_names = b.columns\n",
        "# values obtained from airline_sentiment_distribution - Check the cell above\n",
        "results = {\n",
        "    'American': [1960,463,336],\n",
        "    'Delta': [955,723,544],\n",
        "    'Southwest': [1186,664,570],\n",
        "    'US Airways': [2263, 381, 269],\n",
        "    'United': [2633,697,492],\n",
        "    'Virgin America': [181,171,152]\n",
        "}\n",
        "\n",
        "\n",
        "def survey(results, category_names):\n",
        "    labels = list(results.keys())\n",
        "    data = np.array(list(results.values()))\n",
        "    data_cum = data.cumsum(axis=1)\n",
        "    category_colors = plt.get_cmap('RdYlGn')(\n",
        "        np.linspace(0.15, 0.85, data.shape[1]))\n",
        "\n",
        "    fig, ax = plt.subplots(figsize=(9.2, 7))\n",
        "    ax.invert_yaxis()\n",
        "    ax.xaxis.set_visible(False)\n",
        "    ax.set_xlim(0, np.sum(data, axis=1).max())\n",
        "\n",
        "    for i, (colname, color) in enumerate(zip(category_names, category_colors)):\n",
        "        widths = data[:, i]\n",
        "        starts = data_cum[:, i] - widths\n",
        "        ax.barh(labels, widths, left=starts, height=0.5,\n",
        "                label=colname, color=color)\n",
        "        xcenters = starts + widths / 2\n",
        "\n",
        "        r, g, b, _ = color\n",
        "        text_color = 'white' if r * g * b < 0.5 else 'darkgrey'\n",
        "        for y, (x, c) in enumerate(zip(xcenters, widths)):\n",
        "            ax.text(x, y, str(int(c)), ha='center', va='center',\n",
        "                    color=text_color)\n",
        "    ax.legend(ncol=len(category_names), bbox_to_anchor=(0, 1),\n",
        "              loc='lower left', fontsize='small')\n",
        "\n",
        "    return fig, ax\n",
        "survey(results, category_names)\n",
        "plt.title(\"Tweet counts\")\n",
        "plt.show()"
      ],
      "execution_count": null,
      "outputs": [
        {
          "output_type": "display_data",
          "data": {
            "image/png": "[encoded data removed]",
            "text/plain": [
              "<Figure size 662.4x504 with 1 Axes>"
            ]
          },
          "metadata": {
            "tags": [],
            "needs_background": "light"
          }
        }
      ]
    },
    {
      "cell_type": "markdown",
      "metadata": {
        "id": "4XuFZGWq9tT5",
        "colab_type": "text"
      },
      "source": [
        "**As you can see in the chart above,**\n",
        "\n",
        "*   For all the airlines, the number of negative tweets are higher\n",
        "*   Virgin america's distribution of tweets WRT sentiments differ only by a minuscle difference. We can say that **virgin america**, **delta** and **Southwest** are comparitavely performing well when compared to the other three airlines\n",
        "*   **US airways** are definately one of the airlines which needs a lot of improvement. This is because, their ratio of negative sentiment tweets are huge when compared to others \n",
        "*   From the graph above, **Virgin America** seems to be very good and had been getting positive feedbacks, while **United** is having the most negative feedbacks."
      ]
    },
    {
      "cell_type": "markdown",
      "metadata": {
        "id": "ZuzvDWx44hlk",
        "colab_type": "text"
      },
      "source": [
        "#### **Analysis by the Retweet count**"
      ]
    },
    {
      "cell_type": "markdown",
      "metadata": {
        "id": "oFrEGCYQ5cgO",
        "colab_type": "text"
      },
      "source": [
        "*This analysis is performed because, there may be tweets which other people wouldn't have expressed but wants to express to some others review. This is considered an important aspect because all the retweets are again considered as a new tweet by a different individual*"
      ]
    },
    {
      "cell_type": "markdown",
      "metadata": {
        "id": "SH3pps7x5LUL",
        "colab_type": "text"
      },
      "source": [
        "First, removing all the rows which has a retweet count of 0, because it doesn't add any value."
      ]
    },
    {
      "cell_type": "code",
      "metadata": {
        "id": "lHJrxp4vk5Nm",
        "colab_type": "code",
        "colab": {}
      },
      "source": [
        "value_counts = dataset['retweet_count'].value_counts()\n",
        "to_remove = value_counts[value_counts.index == 0].index\n",
        "df = dataset[~dataset.retweet_count.isin(to_remove)]\n",
        "#df['retweet_count'].value_counts()"
      ],
      "execution_count": null,
      "outputs": []
    },
    {
      "cell_type": "code",
      "metadata": {
        "id": "uTz_AYe3_ekB",
        "colab_type": "code",
        "colab": {
          "base_uri": "https://localhost:8080/",
          "height": 625
        },
        "outputId": "a18a60e0-13bf-4996-8645-1210c1f23a59"
      },
      "source": [
        "ct = pd.crosstab(df.retweet_count, df.airline)\n",
        "ct.plot.bar(stacked=True, figsize = (10,10))\n",
        "plt.ylabel(\"Count of the tweets\")\n",
        "plt.title(\"The Graph of the retweeted count by different airlines\")\n",
        "plt.legend(title='Airlines')\n",
        "plt.show()"
      ],
      "execution_count": null,
      "outputs": [
        {
          "output_type": "display_data",
          "data": {
            "image/png": "[encoded data removed]",
            "text/plain": [
              "<Figure size 720x720 with 1 Axes>"
            ]
          },
          "metadata": {
            "tags": [],
            "needs_background": "light"
          }
        }
      ]
    },
    {
      "cell_type": "markdown",
      "metadata": {
        "id": "e7YUE973LSS_",
        "colab_type": "text"
      },
      "source": [
        "**Retweet count WRT Sentiment**"
      ]
    },
    {
      "cell_type": "code",
      "metadata": {
        "id": "sp6nLb856ZzU",
        "colab_type": "code",
        "colab": {
          "base_uri": "https://localhost:8080/",
          "height": 604
        },
        "outputId": "9e156686-6136-41ee-867b-351032302a06"
      },
      "source": [
        "retweets = pd.crosstab(df.retweet_count, df.airline_sentiment, margins=True)\n",
        "retweets"
      ],
      "execution_count": null,
      "outputs": [
        {
          "output_type": "execute_result",
          "data": {
            "text/html": [
              "<div>\n",
              "<style scoped>\n",
              "    .dataframe tbody tr th:only-of-type {\n",
              "        vertical-align: middle;\n",
              "    }\n",
              "\n",
              "    .dataframe tbody tr th {\n",
              "        vertical-align: top;\n",
              "    }\n",
              "\n",
              "    .dataframe thead th {\n",
              "        text-align: right;\n",
              "    }\n",
              "</style>\n",
              "<table border=\"1\" class=\"dataframe\">\n",
              "  <thead>\n",
              "    <tr style=\"text-align: right;\">\n",
              "      <th>airline_sentiment</th>\n",
              "      <th>negative</th>\n",
              "      <th>neutral</th>\n",
              "      <th>positive</th>\n",
              "      <th>All</th>\n",
              "    </tr>\n",
              "    <tr>\n",
              "      <th>retweet_count</th>\n",
              "      <th></th>\n",
              "      <th></th>\n",
              "      <th></th>\n",
              "      <th></th>\n",
              "    </tr>\n",
              "  </thead>\n",
              "  <tbody>\n",
              "    <tr>\n",
              "      <th>1</th>\n",
              "      <td>524</td>\n",
              "      <td>63</td>\n",
              "      <td>53</td>\n",
              "      <td>640</td>\n",
              "    </tr>\n",
              "    <tr>\n",
              "      <th>2</th>\n",
              "      <td>41</td>\n",
              "      <td>16</td>\n",
              "      <td>9</td>\n",
              "      <td>66</td>\n",
              "    </tr>\n",
              "    <tr>\n",
              "      <th>3</th>\n",
              "      <td>12</td>\n",
              "      <td>7</td>\n",
              "      <td>3</td>\n",
              "      <td>22</td>\n",
              "    </tr>\n",
              "    <tr>\n",
              "      <th>4</th>\n",
              "      <td>11</td>\n",
              "      <td>2</td>\n",
              "      <td>4</td>\n",
              "      <td>17</td>\n",
              "    </tr>\n",
              "    <tr>\n",
              "      <th>5</th>\n",
              "      <td>2</td>\n",
              "      <td>2</td>\n",
              "      <td>1</td>\n",
              "      <td>5</td>\n",
              "    </tr>\n",
              "    <tr>\n",
              "      <th>6</th>\n",
              "      <td>0</td>\n",
              "      <td>2</td>\n",
              "      <td>1</td>\n",
              "      <td>3</td>\n",
              "    </tr>\n",
              "    <tr>\n",
              "      <th>7</th>\n",
              "      <td>2</td>\n",
              "      <td>0</td>\n",
              "      <td>1</td>\n",
              "      <td>3</td>\n",
              "    </tr>\n",
              "    <tr>\n",
              "      <th>8</th>\n",
              "      <td>0</td>\n",
              "      <td>0</td>\n",
              "      <td>1</td>\n",
              "      <td>1</td>\n",
              "    </tr>\n",
              "    <tr>\n",
              "      <th>9</th>\n",
              "      <td>0</td>\n",
              "      <td>0</td>\n",
              "      <td>1</td>\n",
              "      <td>1</td>\n",
              "    </tr>\n",
              "    <tr>\n",
              "      <th>11</th>\n",
              "      <td>0</td>\n",
              "      <td>0</td>\n",
              "      <td>1</td>\n",
              "      <td>1</td>\n",
              "    </tr>\n",
              "    <tr>\n",
              "      <th>15</th>\n",
              "      <td>0</td>\n",
              "      <td>1</td>\n",
              "      <td>0</td>\n",
              "      <td>1</td>\n",
              "    </tr>\n",
              "    <tr>\n",
              "      <th>18</th>\n",
              "      <td>1</td>\n",
              "      <td>0</td>\n",
              "      <td>0</td>\n",
              "      <td>1</td>\n",
              "    </tr>\n",
              "    <tr>\n",
              "      <th>22</th>\n",
              "      <td>1</td>\n",
              "      <td>0</td>\n",
              "      <td>1</td>\n",
              "      <td>2</td>\n",
              "    </tr>\n",
              "    <tr>\n",
              "      <th>28</th>\n",
              "      <td>0</td>\n",
              "      <td>1</td>\n",
              "      <td>0</td>\n",
              "      <td>1</td>\n",
              "    </tr>\n",
              "    <tr>\n",
              "      <th>31</th>\n",
              "      <td>1</td>\n",
              "      <td>0</td>\n",
              "      <td>0</td>\n",
              "      <td>1</td>\n",
              "    </tr>\n",
              "    <tr>\n",
              "      <th>32</th>\n",
              "      <td>1</td>\n",
              "      <td>0</td>\n",
              "      <td>0</td>\n",
              "      <td>1</td>\n",
              "    </tr>\n",
              "    <tr>\n",
              "      <th>44</th>\n",
              "      <td>1</td>\n",
              "      <td>0</td>\n",
              "      <td>0</td>\n",
              "      <td>1</td>\n",
              "    </tr>\n",
              "    <tr>\n",
              "      <th>All</th>\n",
              "      <td>597</td>\n",
              "      <td>94</td>\n",
              "      <td>76</td>\n",
              "      <td>767</td>\n",
              "    </tr>\n",
              "  </tbody>\n",
              "</table>\n",
              "</div>"
            ],
            "text/plain": [
              "airline_sentiment  negative  neutral  positive  All\n",
              "retweet_count                                      \n",
              "1                       524       63        53  640\n",
              "2                        41       16         9   66\n",
              "3                        12        7         3   22\n",
              "4                        11        2         4   17\n",
              "5                         2        2         1    5\n",
              "6                         0        2         1    3\n",
              "7                         2        0         1    3\n",
              "8                         0        0         1    1\n",
              "9                         0        0         1    1\n",
              "11                        0        0         1    1\n",
              "15                        0        1         0    1\n",
              "18                        1        0         0    1\n",
              "22                        1        0         1    2\n",
              "28                        0        1         0    1\n",
              "31                        1        0         0    1\n",
              "32                        1        0         0    1\n",
              "44                        1        0         0    1\n",
              "All                     597       94        76  767"
            ]
          },
          "metadata": {
            "tags": []
          },
          "execution_count": 16
        }
      ]
    },
    {
      "cell_type": "code",
      "metadata": {
        "id": "DKvGFx2O-hRq",
        "colab_type": "code",
        "colab": {
          "base_uri": "https://localhost:8080/",
          "height": 88
        },
        "outputId": "1b42e360-b6c7-4305-d5c1-856d1ef68b8a"
      },
      "source": [
        "dataset['airline_sentiment'].value_counts()"
      ],
      "execution_count": null,
      "outputs": [
        {
          "output_type": "execute_result",
          "data": {
            "text/plain": [
              "negative    9178\n",
              "neutral     3099\n",
              "positive    2363\n",
              "Name: airline_sentiment, dtype: int64"
            ]
          },
          "metadata": {
            "tags": []
          },
          "execution_count": 17
        }
      ]
    },
    {
      "cell_type": "code",
      "metadata": {
        "id": "jEknemX8awjP",
        "colab_type": "code",
        "colab": {
          "base_uri": "https://localhost:8080/",
          "height": 35
        },
        "outputId": "7a233c6f-6c86-4782-9a8c-88db66f698c3"
      },
      "source": [
        "!pip install squarify #algorithm for treemap"
      ],
      "execution_count": null,
      "outputs": [
        {
          "output_type": "stream",
          "text": [
            "Requirement already satisfied: squarify in /usr/local/lib/python3.6/dist-packages (0.4.3)\n"
          ],
          "name": "stdout"
        }
      ]
    },
    {
      "cell_type": "code",
      "metadata": {
        "id": "915NNmhnEcdm",
        "colab_type": "code",
        "colab": {
          "base_uri": "https://localhost:8080/",
          "height": 285
        },
        "outputId": "cfea7741-0a77-4d18-9e5e-72c465739ac7"
      },
      "source": [
        "import squarify\n",
        "squarify.plot(sizes=[597/9148, 94/3099, 76/2363], label = ['negative', 'neutral', 'positive'], alpha=.7, color=sns.color_palette(\"husl\",5))\n",
        "plt.title(\"Ratio of the Retweets\", fontsize=18)\n",
        "plt.show()"
      ],
      "execution_count": null,
      "outputs": [
        {
          "output_type": "display_data",
          "data": {
            "image/png": "[encoded data removed]",
            "text/plain": [
              "<Figure size 432x288 with 1 Axes>"
            ]
          },
          "metadata": {
            "tags": [],
            "needs_background": "light"
          }
        }
      ]
    },
    {
      "cell_type": "markdown",
      "metadata": {
        "id": "HtwvqGIDFvTI",
        "colab_type": "text"
      },
      "source": [
        "\n",
        "\n",
        "> The ratio of the retweets. There were a lot of retweets for the negative sentiment review when compared to the positive and neutral sentiment. The number of retweets for the positive and neutral sentiments were approximately equal.\n",
        "\n"
      ]
    },
    {
      "cell_type": "markdown",
      "metadata": {
        "id": "3nan9juAG2sK",
        "colab_type": "text"
      },
      "source": [
        "#### **Analysis by the Reason for the Negative Reviews**"
      ]
    },
    {
      "cell_type": "code",
      "metadata": {
        "id": "RaqXk2_VauZr",
        "colab_type": "code",
        "colab": {
          "base_uri": "https://localhost:8080/",
          "height": 537
        },
        "outputId": "ac7de2ee-1c2b-454c-ccc3-10f0b46a45e3"
      },
      "source": [
        "fig = plt.gcf()\n",
        "ax = fig.add_subplot()\n",
        "fig.set_size_inches(18, 9)\n",
        "temp = dataset['negativereason'].value_counts()\n",
        "squarify.plot(sizes=temp.values, label=temp.index, alpha=.7, color=sns.color_palette(\"Paired\"))\n",
        "plt.axis('off')\n",
        "plt.title(\"Different reasons for the Negative Review\", fontsize=14)\n",
        "plt.show()"
      ],
      "execution_count": null,
      "outputs": [
        {
          "output_type": "display_data",
          "data": {
            "image/png": "[encoded data removed]",
            "text/plain": [
              "<Figure size 1296x648 with 1 Axes>"
            ]
          },
          "metadata": {
            "tags": [],
            "needs_background": "light"
          }
        }
      ]
    },
    {
      "cell_type": "markdown",
      "metadata": {
        "id": "oU2QKVzzeKr_",
        "colab_type": "text"
      },
      "source": [
        "\n",
        "\n",
        "> **Insights:** \n",
        "\n",
        "1.   The reasons for the negative sentiment are shown in the chart above.\n",
        "2.   As the sizes of the box represents, \"Customer service issue\" is one of the major reason for negative reviews.\"\n",
        "3.   \"Late flight\" seconds the table\n",
        "4.   There are also 8 other reasons for the negative reviews"
      ]
    },
    {
      "cell_type": "code",
      "metadata": {
        "id": "vMsO69jdhnrm",
        "colab_type": "code",
        "colab": {
          "base_uri": "https://localhost:8080/",
          "height": 752
        },
        "outputId": "7b4df8b3-6306-4bcf-d0e0-de001cce65e4"
      },
      "source": [
        "pd.crosstab(dataset.airline, dataset.negativereason).plot(color=sns.color_palette(\"Paired\"),figsize=(12,12))\n",
        "plt.title('The Negative Reasons by Airlines', fontsize=18)\n",
        "plt.xlabel('Airlines')\n",
        "plt.ylabel('Count of the customers feeling')\n",
        "plt.legend(bbox_to_anchor=(1, 1), loc=2)"
      ],
      "execution_count": null,
      "outputs": [
        {
          "output_type": "execute_result",
          "data": {
            "text/plain": [
              "<matplotlib.legend.Legend at 0x7f06096e5c88>"
            ]
          },
          "metadata": {
            "tags": []
          },
          "execution_count": 21
        },
        {
          "output_type": "display_data",
          "data": {
            "image/png": "[encoded data removed]",
            "text/plain": [
              "<Figure size 864x864 with 1 Axes>"
            ]
          },
          "metadata": {
            "tags": [],
            "needs_background": "light"
          }
        }
      ]
    },
    {
      "cell_type": "markdown",
      "metadata": {
        "colab_type": "text",
        "id": "317YJR8tjRQF"
      },
      "source": [
        "\n",
        "\n",
        "> **Insights:** \n",
        "\n",
        "1.   \"customer service issue\" has been **major (Top most)** problem for all the airlines except delta.\n",
        "2.   All the airlines negative reasons follow the same pattern as seen in the previois graph. Henceforth, the airlines needs to look into the major reason like \"customer service issue\", \"late flight\" to improve their standards"
      ]
    },
    {
      "cell_type": "markdown",
      "metadata": {
        "id": "yCV4GHpowMS1",
        "colab_type": "text"
      },
      "source": [
        "#### **Analysis by the length of the Text**"
      ]
    },
    {
      "cell_type": "markdown",
      "metadata": {
        "id": "rgq4Nq58n80_",
        "colab_type": "text"
      },
      "source": [
        "**Adding two new columns to denote the number of letters and words in the text column.**\n",
        "\n",
        "Using FacetGrid from the seaborn library to create a grid of 3 histograms of text length based off of the sentiment analysis"
      ]
    },
    {
      "cell_type": "code",
      "metadata": {
        "id": "6DC2vFZ1putG",
        "colab_type": "code",
        "colab": {}
      },
      "source": [
        "dataset['text length'] = dataset['text'].apply(len)"
      ],
      "execution_count": null,
      "outputs": []
    },
    {
      "cell_type": "code",
      "metadata": {
        "id": "c5z8hMmXoJeH",
        "colab_type": "code",
        "colab": {
          "base_uri": "https://localhost:8080/",
          "height": 243
        },
        "outputId": "58d17cd5-ba75-44f7-a89e-599b954c47eb"
      },
      "source": [
        "g = sns.FacetGrid(dataset,col='airline_sentiment')\n",
        "g.map(plt.hist,'text length')"
      ],
      "execution_count": null,
      "outputs": [
        {
          "output_type": "execute_result",
          "data": {
            "text/plain": [
              "<seaborn.axisgrid.FacetGrid at 0x7f0609682cc0>"
            ]
          },
          "metadata": {
            "tags": []
          },
          "execution_count": 23
        },
        {
          "output_type": "display_data",
          "data": {
            "image/png": "[encoded data removed]",
            "text/plain": [
              "<Figure size 648x216 with 3 Axes>"
            ]
          },
          "metadata": {
            "tags": [],
            "needs_background": "light"
          }
        }
      ]
    },
    {
      "cell_type": "markdown",
      "metadata": {
        "id": "Peazx1P2qNfM",
        "colab_type": "text"
      },
      "source": [
        "**Insights from the Graphs above:**\n",
        "\n",
        "*   Most of the reviews has a text length between 130 to 140 in all the 3 categories. \n",
        "*   For Neutral and positive sentiments, the distribution of the reviews are almost the same irrespective of the text length. \n",
        "*   In contrast, when the airline sentiment is negative, as the length of the text increases, the count of the negative sentiment increases exponentially till text length is equal to 140.\n",
        "*   We can say that most of the tweets are negative when the length of the text is around 140.\n",
        "\n",
        "\n",
        "\n",
        "\n",
        "\n"
      ]
    },
    {
      "cell_type": "code",
      "metadata": {
        "id": "dkSp5PF2r09C",
        "colab_type": "code",
        "colab": {}
      },
      "source": [
        "dataset['words count'] = dataset['text'].str.split().apply(len)"
      ],
      "execution_count": null,
      "outputs": []
    },
    {
      "cell_type": "code",
      "metadata": {
        "id": "Zc23FGaXuRcS",
        "colab_type": "code",
        "colab": {
          "base_uri": "https://localhost:8080/",
          "height": 243
        },
        "outputId": "a014a614-7c3c-4124-d942-4e0fdc1ba5ca"
      },
      "source": [
        "g = sns.FacetGrid(dataset,col='airline_sentiment')\n",
        "g.map(plt.hist,'words count')"
      ],
      "execution_count": null,
      "outputs": [
        {
          "output_type": "execute_result",
          "data": {
            "text/plain": [
              "<seaborn.axisgrid.FacetGrid at 0x7f0609f0b6d8>"
            ]
          },
          "metadata": {
            "tags": []
          },
          "execution_count": 25
        },
        {
          "output_type": "display_data",
          "data": {
            "image/png": "[encoded data removed]",
            "text/plain": [
              "<Figure size 648x216 with 3 Axes>"
            ]
          },
          "metadata": {
            "tags": [],
            "needs_background": "light"
          }
        }
      ]
    },
    {
      "cell_type": "markdown",
      "metadata": {
        "colab_type": "text",
        "id": "oLwDgHY8u0sT"
      },
      "source": [
        "**Insights from the Graphs above:**\n",
        "\n",
        "*   This again proves that as the number of words increases, they mostly belong to the negative sentiment category   "
      ]
    },
    {
      "cell_type": "markdown",
      "metadata": {
        "id": "hO4DJwGUs2aY",
        "colab_type": "text"
      },
      "source": [
        "**A box plot of the words count for each of the sentiment**"
      ]
    },
    {
      "cell_type": "code",
      "metadata": {
        "id": "OyggbcQHshI5",
        "colab_type": "code",
        "colab": {
          "base_uri": "https://localhost:8080/",
          "height": 298
        },
        "outputId": "21031013-64c5-4910-c531-f2962b957370"
      },
      "source": [
        "sns.boxplot(x='airline_sentiment',y='words count',data=dataset,palette='rainbow')"
      ],
      "execution_count": null,
      "outputs": [
        {
          "output_type": "execute_result",
          "data": {
            "text/plain": [
              "<matplotlib.axes._subplots.AxesSubplot at 0x7f0609bf42e8>"
            ]
          },
          "metadata": {
            "tags": []
          },
          "execution_count": 26
        },
        {
          "output_type": "display_data",
          "data": {
            "image/png": "[encoded data removed]",
            "text/plain": [
              "<Figure size 432x288 with 1 Axes>"
            ]
          },
          "metadata": {
            "tags": [],
            "needs_background": "light"
          }
        }
      ]
    },
    {
      "cell_type": "code",
      "metadata": {
        "id": "suSlIV4Ps9SC",
        "colab_type": "code",
        "colab": {
          "base_uri": "https://localhost:8080/",
          "height": 164
        },
        "outputId": "24b7526a-20c7-4f8e-cb8d-8e39592fa222"
      },
      "source": [
        "tempData = dataset[['text length', 'airline_sentiment', 'words count']]\n",
        "sentiment = tempData.groupby('airline_sentiment').mean()\n",
        "sentiment"
      ],
      "execution_count": null,
      "outputs": [
        {
          "output_type": "execute_result",
          "data": {
            "text/html": [
              "<div>\n",
              "<style scoped>\n",
              "    .dataframe tbody tr th:only-of-type {\n",
              "        vertical-align: middle;\n",
              "    }\n",
              "\n",
              "    .dataframe tbody tr th {\n",
              "        vertical-align: top;\n",
              "    }\n",
              "\n",
              "    .dataframe thead th {\n",
              "        text-align: right;\n",
              "    }\n",
              "</style>\n",
              "<table border=\"1\" class=\"dataframe\">\n",
              "  <thead>\n",
              "    <tr style=\"text-align: right;\">\n",
              "      <th></th>\n",
              "      <th>text length</th>\n",
              "      <th>words count</th>\n",
              "    </tr>\n",
              "    <tr>\n",
              "      <th>airline_sentiment</th>\n",
              "      <th></th>\n",
              "      <th></th>\n",
              "    </tr>\n",
              "  </thead>\n",
              "  <tbody>\n",
              "    <tr>\n",
              "      <th>negative</th>\n",
              "      <td>113.947919</td>\n",
              "      <td>19.686206</td>\n",
              "    </tr>\n",
              "    <tr>\n",
              "      <th>neutral</th>\n",
              "      <td>87.359471</td>\n",
              "      <td>14.408842</td>\n",
              "    </tr>\n",
              "    <tr>\n",
              "      <th>positive</th>\n",
              "      <td>86.082945</td>\n",
              "      <td>14.013119</td>\n",
              "    </tr>\n",
              "  </tbody>\n",
              "</table>\n",
              "</div>"
            ],
            "text/plain": [
              "                   text length  words count\n",
              "airline_sentiment                          \n",
              "negative            113.947919    19.686206\n",
              "neutral              87.359471    14.408842\n",
              "positive             86.082945    14.013119"
            ]
          },
          "metadata": {
            "tags": []
          },
          "execution_count": 27
        }
      ]
    },
    {
      "cell_type": "markdown",
      "metadata": {
        "id": "NjB-_rrSqHuq",
        "colab_type": "text"
      },
      "source": [
        "*From the above results, we can say that the negative sentiment tweets are longer than the length of the positive and neutral tweets.*"
      ]
    },
    {
      "cell_type": "markdown",
      "metadata": {
        "id": "pRx6rTdHxOOe",
        "colab_type": "text"
      },
      "source": [
        "### **Distribution of the Target Variable**"
      ]
    },
    {
      "cell_type": "markdown",
      "metadata": {
        "id": "wgHWgQrEnlKf",
        "colab_type": "text"
      },
      "source": [
        "**Lets check the distribution of the target column - \"airline_sentiment\"**"
      ]
    },
    {
      "cell_type": "code",
      "metadata": {
        "id": "-ZlY0n8vmUEz",
        "colab_type": "code",
        "colab": {
          "base_uri": "https://localhost:8080/",
          "height": 298
        },
        "outputId": "7aba1696-7722-4e55-a0f8-0fdf7158daef"
      },
      "source": [
        "# Visualize the target variable distribution\n",
        "sns.countplot(x='airline_sentiment',data=dataset,palette='rainbow')"
      ],
      "execution_count": null,
      "outputs": [
        {
          "output_type": "execute_result",
          "data": {
            "text/plain": [
              "<matplotlib.axes._subplots.AxesSubplot at 0x7f060dd6a898>"
            ]
          },
          "metadata": {
            "tags": []
          },
          "execution_count": 28
        },
        {
          "output_type": "display_data",
          "data": {
            "image/png": "[encoded data removed]",
            "text/plain": [
              "<Figure size 432x288 with 1 Axes>"
            ]
          },
          "metadata": {
            "tags": [],
            "needs_background": "light"
          }
        }
      ]
    },
    {
      "cell_type": "markdown",
      "metadata": {
        "id": "nkMwi8JRntt1",
        "colab_type": "text"
      },
      "source": [
        "**Insights about the target variable**\n",
        "\n",
        "> negative  -  **9178**        \n",
        "        \n",
        "> neutral   -  **3099**\n",
        "\n",
        "> positive  -  **2363**\n",
        "\n",
        "*This confirms that the tweets which has a negative sentiment is lot when compared to the combined sentiment of positive and negative sentiments*\n",
        "\n",
        "\n",
        "\n"
      ]
    },
    {
      "cell_type": "markdown",
      "metadata": {
        "id": "e0nRaYQmwBC1",
        "colab_type": "text"
      },
      "source": [
        "## **Implementation**"
      ]
    },
    {
      "cell_type": "markdown",
      "metadata": {
        "id": "MAUG6503yeax",
        "colab_type": "text"
      },
      "source": [
        "### **Preprocessing the Target Variable**"
      ]
    },
    {
      "cell_type": "markdown",
      "metadata": {
        "id": "buxQJaxtwVuJ",
        "colab_type": "text"
      },
      "source": [
        "> **Driver Variable:** \"text\"\n",
        "\n",
        "> **Target Variable:** \"airline_sentiment\""
      ]
    },
    {
      "cell_type": "code",
      "metadata": {
        "id": "v0aCcYn-wrvG",
        "colab_type": "code",
        "colab": {
          "base_uri": "https://localhost:8080/",
          "height": 230
        },
        "outputId": "e08a8e7f-0620-4693-e13e-7c08a4200222"
      },
      "source": [
        "print(dataset['airline_sentiment'])"
      ],
      "execution_count": null,
      "outputs": [
        {
          "output_type": "stream",
          "text": [
            "0         neutral\n",
            "1        positive\n",
            "2         neutral\n",
            "3        negative\n",
            "4        negative\n",
            "           ...   \n",
            "14635    positive\n",
            "14636    negative\n",
            "14637     neutral\n",
            "14638    negative\n",
            "14639     neutral\n",
            "Name: airline_sentiment, Length: 14640, dtype: object\n"
          ],
          "name": "stdout"
        }
      ]
    },
    {
      "cell_type": "code",
      "metadata": {
        "id": "Ppqz4Id6yQWL",
        "colab_type": "code",
        "colab": {
          "base_uri": "https://localhost:8080/",
          "height": 35
        },
        "outputId": "76b5db18-71c5-4c08-bb40-9696e9e21df9"
      },
      "source": [
        "y = dataset['airline_sentiment'].values\n",
        "print(y.shape)"
      ],
      "execution_count": null,
      "outputs": [
        {
          "output_type": "stream",
          "text": [
            "(14640,)\n"
          ],
          "name": "stdout"
        }
      ]
    },
    {
      "cell_type": "code",
      "metadata": {
        "id": "v7-RUOJowyhQ",
        "colab_type": "code",
        "colab": {}
      },
      "source": [
        "# Convert the target column into categoriacal values\n",
        "#dataset['airline_sentiment'].replace(to_replace = 'neutral' , value = 0,inplace = True)\n",
        "#dataset['airline_sentiment'].replace(to_replace = 'positive' , value = 1,inplace = True)\n",
        "#dataset['airline_sentiment'].replace(to_replace = 'negative' , value = 2,inplace = True)"
      ],
      "execution_count": null,
      "outputs": []
    },
    {
      "cell_type": "code",
      "metadata": {
        "id": "-FE_2DLcxwsv",
        "colab_type": "code",
        "colab": {}
      },
      "source": [
        "# Using Label Encoder to convert the target column into numerical values\n",
        "from sklearn.preprocessing import LabelEncoder\n",
        "labelencoder_y = LabelEncoder()\n",
        "y = labelencoder_y.fit_transform(y)"
      ],
      "execution_count": null,
      "outputs": []
    },
    {
      "cell_type": "code",
      "metadata": {
        "id": "xdBgEkBRxaEg",
        "colab_type": "code",
        "colab": {
          "base_uri": "https://localhost:8080/",
          "height": 35
        },
        "outputId": "b930a818-a74f-4644-a283-11ba9acc63ea"
      },
      "source": [
        "y"
      ],
      "execution_count": null,
      "outputs": [
        {
          "output_type": "execute_result",
          "data": {
            "text/plain": [
              "array([1, 2, 1, ..., 1, 0, 1])"
            ]
          },
          "metadata": {
            "tags": []
          },
          "execution_count": 33
        }
      ]
    },
    {
      "cell_type": "code",
      "metadata": {
        "id": "1K79GqtrWmkj",
        "colab_type": "code",
        "colab": {}
      },
      "source": [
        "dataset['Target Value'] = y"
      ],
      "execution_count": null,
      "outputs": []
    },
    {
      "cell_type": "markdown",
      "metadata": {
        "id": "KGWAvtyQxfgi",
        "colab_type": "text"
      },
      "source": [
        "*The target column is now converted into numerical values and their representation are shown below*"
      ]
    },
    {
      "cell_type": "code",
      "metadata": {
        "id": "Wbp4amEhW_m1",
        "colab_type": "code",
        "colab": {
          "base_uri": "https://localhost:8080/",
          "height": 399
        },
        "outputId": "f78249a3-df08-4f76-b788-f7c6dd2ef404"
      },
      "source": [
        "dataset[['airline_sentiment', 'Target Value']]"
      ],
      "execution_count": null,
      "outputs": [
        {
          "output_type": "execute_result",
          "data": {
            "text/html": [
              "<div>\n",
              "<style scoped>\n",
              "    .dataframe tbody tr th:only-of-type {\n",
              "        vertical-align: middle;\n",
              "    }\n",
              "\n",
              "    .dataframe tbody tr th {\n",
              "        vertical-align: top;\n",
              "    }\n",
              "\n",
              "    .dataframe thead th {\n",
              "        text-align: right;\n",
              "    }\n",
              "</style>\n",
              "<table border=\"1\" class=\"dataframe\">\n",
              "  <thead>\n",
              "    <tr style=\"text-align: right;\">\n",
              "      <th></th>\n",
              "      <th>airline_sentiment</th>\n",
              "      <th>Target Value</th>\n",
              "    </tr>\n",
              "  </thead>\n",
              "  <tbody>\n",
              "    <tr>\n",
              "      <th>0</th>\n",
              "      <td>neutral</td>\n",
              "      <td>1</td>\n",
              "    </tr>\n",
              "    <tr>\n",
              "      <th>1</th>\n",
              "      <td>positive</td>\n",
              "      <td>2</td>\n",
              "    </tr>\n",
              "    <tr>\n",
              "      <th>2</th>\n",
              "      <td>neutral</td>\n",
              "      <td>1</td>\n",
              "    </tr>\n",
              "    <tr>\n",
              "      <th>3</th>\n",
              "      <td>negative</td>\n",
              "      <td>0</td>\n",
              "    </tr>\n",
              "    <tr>\n",
              "      <th>4</th>\n",
              "      <td>negative</td>\n",
              "      <td>0</td>\n",
              "    </tr>\n",
              "    <tr>\n",
              "      <th>...</th>\n",
              "      <td>...</td>\n",
              "      <td>...</td>\n",
              "    </tr>\n",
              "    <tr>\n",
              "      <th>14635</th>\n",
              "      <td>positive</td>\n",
              "      <td>2</td>\n",
              "    </tr>\n",
              "    <tr>\n",
              "      <th>14636</th>\n",
              "      <td>negative</td>\n",
              "      <td>0</td>\n",
              "    </tr>\n",
              "    <tr>\n",
              "      <th>14637</th>\n",
              "      <td>neutral</td>\n",
              "      <td>1</td>\n",
              "    </tr>\n",
              "    <tr>\n",
              "      <th>14638</th>\n",
              "      <td>negative</td>\n",
              "      <td>0</td>\n",
              "    </tr>\n",
              "    <tr>\n",
              "      <th>14639</th>\n",
              "      <td>neutral</td>\n",
              "      <td>1</td>\n",
              "    </tr>\n",
              "  </tbody>\n",
              "</table>\n",
              "<p>14640 rows × 2 columns</p>\n",
              "</div>"
            ],
            "text/plain": [
              "      airline_sentiment  Target Value\n",
              "0               neutral             1\n",
              "1              positive             2\n",
              "2               neutral             1\n",
              "3              negative             0\n",
              "4              negative             0\n",
              "...                 ...           ...\n",
              "14635          positive             2\n",
              "14636          negative             0\n",
              "14637           neutral             1\n",
              "14638          negative             0\n",
              "14639           neutral             1\n",
              "\n",
              "[14640 rows x 2 columns]"
            ]
          },
          "metadata": {
            "tags": []
          },
          "execution_count": 35
        }
      ]
    },
    {
      "cell_type": "markdown",
      "metadata": {
        "id": "cDLfyKzhyF32",
        "colab_type": "text"
      },
      "source": [
        "### **Cleaning the text**"
      ]
    },
    {
      "cell_type": "markdown",
      "metadata": {
        "id": "nB4dWFxjzSjJ",
        "colab_type": "text"
      },
      "source": [
        "**Now, Let's clean the text column**"
      ]
    },
    {
      "cell_type": "markdown",
      "metadata": {
        "id": "m-lr6eVPzjjO",
        "colab_type": "text"
      },
      "source": [
        "Using NLTK library removing the stemming, stop words and removing the punctuations."
      ]
    },
    {
      "cell_type": "code",
      "metadata": {
        "id": "-DqDJ6l3gLdl",
        "colab_type": "code",
        "colab": {}
      },
      "source": [
        "#!pip install spacy\n",
        "#!pip3 install https://github.com/explosion/spacy-models/releases/download/en_core_web_sm-2.2.0/en_core_web_sm-2.2.0.tar.gz\n",
        "#!python -m spacy download en_core_web_lg"
      ],
      "execution_count": null,
      "outputs": []
    },
    {
      "cell_type": "code",
      "metadata": {
        "id": "Fh5-REwrf_Pk",
        "colab_type": "code",
        "colab": {
          "base_uri": "https://localhost:8080/",
          "height": 88
        },
        "outputId": "fc3d6e67-e06a-4107-8498-16db349f4897"
      },
      "source": [
        "# importing the libraries for cleaning the text\n",
        "import re\n",
        "import nltk\n",
        "import spacy.cli\n",
        "nltk.download('stopwords')\n",
        "spacy.cli.download(\"en_core_web_lg\")\n",
        "import en_core_web_lg\n",
        "nlp = en_core_web_lg.load()\n",
        "from nltk.corpus import stopwords\n",
        "from nltk.stem.porter import PorterStemmer\n",
        "from nltk.tokenize import RegexpTokenizer"
      ],
      "execution_count": null,
      "outputs": [
        {
          "output_type": "stream",
          "text": [
            "[nltk_data] Downloading package stopwords to /root/nltk_data...\n",
            "[nltk_data]   Package stopwords is already up-to-date!\n",
            "\u001b[38;5;2m✔ Download and installation successful\u001b[0m\n",
            "You can now load the model via spacy.load('en_core_web_lg')\n"
          ],
          "name": "stdout"
        }
      ]
    },
    {
      "cell_type": "markdown",
      "metadata": {
        "id": "suts9lbNoCNN",
        "colab_type": "text"
      },
      "source": [
        "Including the stop words from both the spacy and nltk library"
      ]
    },
    {
      "cell_type": "code",
      "metadata": {
        "id": "ODxJLKokiBvo",
        "colab_type": "code",
        "colab": {}
      },
      "source": [
        "stop_words_nltk = stopwords.words('english')\n",
        "stop_words_spacy = nlp.Defaults.stop_words\n",
        "full_set_of_stopwords = stop_words_spacy.union(stop_words_nltk)"
      ],
      "execution_count": null,
      "outputs": []
    },
    {
      "cell_type": "code",
      "metadata": {
        "id": "BvVR-xL5WEjm",
        "colab_type": "code",
        "colab": {}
      },
      "source": [
        "def cleanTheText(text):\n",
        "  corpus = []\n",
        "  for i in text:\n",
        "\n",
        "    # This is to remove the username\n",
        "    pattern_for_userid = '@[A-Za-z0-9]+'\n",
        "\n",
        "    # This is to remove the links of any websites\n",
        "    pattern_for_url = 'https?://[^ ]+'\n",
        "    pattern_for_link = 'www.[^ ]+'\n",
        "\n",
        "    # Combining all the patters to be removed in the text\n",
        "    final_pattern = '|'.join((pattern_for_userid, pattern_for_url, pattern_for_link))\n",
        "    \n",
        "    # NLTK\n",
        "    # removes the person's username, links of any websites\n",
        "    data = re.sub(final_pattern, ' ', i)\n",
        "\n",
        "    # removes the punctuation, smilies\n",
        "    tokenizer = RegexpTokenizer(r'\\w+')\n",
        "    data = tokenizer.tokenize(data)\n",
        "    data = ' '.join(data)\n",
        "    data = data.lower()\n",
        "\n",
        "    # Stop word removal and stemming\n",
        "    #data = data.split()\n",
        "    #ps = PorterStemmer()\n",
        "    #data = [ps.stem(temp) for temp in data if not temp in set(full_set_of_stopwords)]\n",
        "    #data = ' '.join(data)\n",
        "\n",
        "    # removes the digits in the text\n",
        "    data = ''.join([i for i in data if not i.isdigit()])\n",
        "\n",
        "    # Spacy\n",
        "    #tokenizer = RegexpTokenizer(r'\\w+')\n",
        "    #data = re.sub(final_pattern, ' ', i)\n",
        "    #data = nlp(data)\n",
        "    #data = [word.lemma_ for word in data if not word.text in set(full_set_of_stopwords)]\n",
        "    #data = ' '.join(data)\n",
        "    #data = tokenizer.tokenize(data)\n",
        "    #data = ' '.join(data)\n",
        "    #data = data.lower()\n",
        "\n",
        "    corpus.append(data)\n",
        "\n",
        "  return corpus"
      ],
      "execution_count": null,
      "outputs": []
    },
    {
      "cell_type": "markdown",
      "metadata": {
        "id": "-HQZRNqz-fA-",
        "colab_type": "text"
      },
      "source": [
        "*Note: When applying the stemming/stop words/lemmatization, the accuracy score went down.*"
      ]
    },
    {
      "cell_type": "markdown",
      "metadata": {
        "id": "v9MbMjDZ5mqF",
        "colab_type": "text"
      },
      "source": [
        "### **Top Words in Negative and Positive Category**"
      ]
    },
    {
      "cell_type": "markdown",
      "metadata": {
        "id": "VcaOmwh97ZWl",
        "colab_type": "text"
      },
      "source": [
        "*This is to display the top words in the negative and positive category. This is done by the concept of topic modelling using Non-negative Matrix Factorization.*"
      ]
    },
    {
      "cell_type": "markdown",
      "metadata": {
        "id": "GJ6fK1SL71ak",
        "colab_type": "text"
      },
      "source": [
        "Using **TfidfVectorizer** to convert to sparse matrix"
      ]
    },
    {
      "cell_type": "code",
      "metadata": {
        "id": "pG12dYpM5rea",
        "colab_type": "code",
        "colab": {}
      },
      "source": [
        "from sklearn.feature_extraction.text import TfidfVectorizer\n",
        "tfidf = TfidfVectorizer(max_df=0.95, min_df=2, stop_words='english')\n",
        "dtm = tfidf.fit_transform(cleanTheText(dataset['text']))"
      ],
      "execution_count": null,
      "outputs": []
    },
    {
      "cell_type": "markdown",
      "metadata": {
        "id": "3SbHldFU7-gu",
        "colab_type": "text"
      },
      "source": [
        "*Implementing **Non-negative** Matrix Factorization*"
      ]
    },
    {
      "cell_type": "code",
      "metadata": {
        "id": "iUuA6QNn6ZGC",
        "colab_type": "code",
        "colab": {
          "base_uri": "https://localhost:8080/",
          "height": 70
        },
        "outputId": "ac410f2d-d424-4c2e-a457-2f68cb1538e3"
      },
      "source": [
        "from sklearn.decomposition import NMF\n",
        "nmf_model = NMF(n_components=2,random_state=42)\n",
        "nmf_model.fit(dtm)"
      ],
      "execution_count": null,
      "outputs": [
        {
          "output_type": "execute_result",
          "data": {
            "text/plain": [
              "NMF(alpha=0.0, beta_loss='frobenius', init=None, l1_ratio=0.0, max_iter=200,\n",
              "    n_components=2, random_state=42, shuffle=False, solver='cd', tol=0.0001,\n",
              "    verbose=0)"
            ]
          },
          "metadata": {
            "tags": []
          },
          "execution_count": 41
        }
      ]
    },
    {
      "cell_type": "markdown",
      "metadata": {
        "id": "sVBbaVbw8Zw6",
        "colab_type": "text"
      },
      "source": [
        "Checking the **top words** in each category"
      ]
    },
    {
      "cell_type": "code",
      "metadata": {
        "id": "pGtb4QBS6iT_",
        "colab_type": "code",
        "colab": {
          "base_uri": "https://localhost:8080/",
          "height": 179
        },
        "outputId": "eaab40dd-7328-41f6-f06d-f0d4ae69e402"
      },
      "source": [
        "for index,category in enumerate(nmf_model.components_):\n",
        "    print(f'THE top 25 words in category #{index}')\n",
        "    print([tfidf.get_feature_names()[i] for i in category.argsort()[-25:]])\n",
        "    print('\\n')"
      ],
      "execution_count": null,
      "outputs": [
        {
          "output_type": "stream",
          "text": [
            "THE top 25 words in category #0\n",
            "['waiting', 'gate', 'got', 'today', 'tomorrow', 'amp', 've', 'flighted', 'plane', 'hour', 'need', 'customer', 'flights', 'late', 'time', 'service', 'just', 'delayed', 'hours', 'hold', 'help', 'thank', 'flightled', 'cancelled', 'flight']\n",
            "\n",
            "\n",
            "THE top 25 words in category #1\n",
            "['making', 'quick', 'know', 'care', 'appreciate', 'yes', 'getting', 'follow', 'did', 'll', 'ok', 'help', 'customer', 'service', 'guys', 'reply', 'sent', 'good', 'response', 'just', 'awesome', 'dm', 'got', 'great', 'thanks']\n",
            "\n",
            "\n"
          ],
          "name": "stdout"
        }
      ]
    },
    {
      "cell_type": "markdown",
      "metadata": {
        "id": "AK4zcnDP8eg3",
        "colab_type": "text"
      },
      "source": [
        "From the results above it seems that category 0 belongs to **Negative** and category 1 belongs to **Positive**. Let's check that in visual representation."
      ]
    },
    {
      "cell_type": "markdown",
      "metadata": {
        "id": "17OE5Q8H9bnO",
        "colab_type": "text"
      },
      "source": [
        "**Top words in Negative Category**"
      ]
    },
    {
      "cell_type": "code",
      "metadata": {
        "id": "4waMi2ma6vwq",
        "colab_type": "code",
        "colab": {
          "base_uri": "https://localhost:8080/",
          "height": 217
        },
        "outputId": "99eb57b7-61b1-4d20-a847-6dabf46c581e"
      },
      "source": [
        "# Import the wordcloud library\n",
        "from wordcloud import WordCloud\n",
        "\n",
        "long_string_negative = ','.join(['waiting', 'gate', 'got', 'today', 'tomorrow', 'amp', 've', 'flighted', 'plane', 'hour', \n",
        "                        'need', 'customer', 'flights', 'late', 'time', 'service', \n",
        "                        'just', 'delayed', 'hours', 'hold', 'help', 'thank', 'flightled', 'cancelled', 'flight'])\n",
        "\n",
        "# Create a WordCloud object\n",
        "wordcloud = WordCloud(background_color=\"white\", max_words=5000, contour_width=3, contour_color='steelblue')\n",
        "\n",
        "# Generate a word cloud\n",
        "wordcloud.generate(long_string_negative)\n",
        "\n",
        "# Visualize the word cloud\n",
        "wordcloud.to_image()\n"
      ],
      "execution_count": null,
      "outputs": [
        {
          "output_type": "execute_result",
          "data": {
            "image/png": "[encoded data removed]",
            "text/plain": [
              "<PIL.Image.Image image mode=RGB size=400x200 at 0x7F05E4A9CF60>"
            ]
          },
          "metadata": {
            "tags": []
          },
          "execution_count": 43
        }
      ]
    },
    {
      "cell_type": "markdown",
      "metadata": {
        "id": "7tZ2RgcL9XRX",
        "colab_type": "text"
      },
      "source": [
        "**Top words in Positive Category**"
      ]
    },
    {
      "cell_type": "code",
      "metadata": {
        "id": "PTnTcwY260ft",
        "colab_type": "code",
        "colab": {
          "base_uri": "https://localhost:8080/",
          "height": 217
        },
        "outputId": "b42c1019-af14-4367-bf1a-9cdcb629a43e"
      },
      "source": [
        "# Import the wordcloud library\n",
        "from wordcloud import WordCloud\n",
        "\n",
        "#for index,topic in enumerate(nmf_model.components_):\n",
        "long_string_positive = ','.join(['making', 'quick', 'know', 'care', 'appreciate', 'yes', 'getting', 'follow', 'did', 'll', 'ok', 'help', 'customer', 'service', \n",
        "                        'guys', 'reply', 'sent', 'good', 'response', 'just', 'awesome', 'dm', 'got', 'great', 'thanks'])\n",
        "\n",
        "# Create a WordCloud object\n",
        "wordcloud = WordCloud(background_color=\"white\", max_words=5000, contour_width=3, contour_color='steelblue')\n",
        "\n",
        "# Generate a word cloud\n",
        "wordcloud.generate(long_string_positive)\n",
        "\n",
        "# Visualize the word cloud\n",
        "wordcloud.to_image()"
      ],
      "execution_count": null,
      "outputs": [
        {
          "output_type": "execute_result",
          "data": {
            "image/png": "[encoded data removed]",
            "text/plain": [
              "<PIL.Image.Image image mode=RGB size=400x200 at 0x7F05E4A0C9E8>"
            ]
          },
          "metadata": {
            "tags": []
          },
          "execution_count": 44
        }
      ]
    },
    {
      "cell_type": "markdown",
      "metadata": {
        "id": "36VeO5L4Lar_",
        "colab_type": "text"
      },
      "source": [
        "### **Models - Pipeline**"
      ]
    },
    {
      "cell_type": "code",
      "metadata": {
        "id": "rJaiiTVtRA3S",
        "colab_type": "code",
        "colab": {}
      },
      "source": [
        "dataset['updated_text'] = pd.DataFrame(cleanTheText(dataset['text']))"
      ],
      "execution_count": null,
      "outputs": []
    },
    {
      "cell_type": "markdown",
      "metadata": {
        "id": "l9ZQqdJiWFOy",
        "colab_type": "text"
      },
      "source": [
        "Comparing the text data before and after \"cleaning\""
      ]
    },
    {
      "cell_type": "code",
      "metadata": {
        "id": "T2kCrlNxUCOa",
        "colab_type": "code",
        "colab": {
          "base_uri": "https://localhost:8080/",
          "height": 399
        },
        "outputId": "ba1a2271-72d4-4956-c593-28bc6ba3a747"
      },
      "source": [
        "dataset[['text', 'updated_text']]"
      ],
      "execution_count": null,
      "outputs": [
        {
          "output_type": "execute_result",
          "data": {
            "text/html": [
              "<div>\n",
              "<style scoped>\n",
              "    .dataframe tbody tr th:only-of-type {\n",
              "        vertical-align: middle;\n",
              "    }\n",
              "\n",
              "    .dataframe tbody tr th {\n",
              "        vertical-align: top;\n",
              "    }\n",
              "\n",
              "    .dataframe thead th {\n",
              "        text-align: right;\n",
              "    }\n",
              "</style>\n",
              "<table border=\"1\" class=\"dataframe\">\n",
              "  <thead>\n",
              "    <tr style=\"text-align: right;\">\n",
              "      <th></th>\n",
              "      <th>text</th>\n",
              "      <th>updated_text</th>\n",
              "    </tr>\n",
              "  </thead>\n",
              "  <tbody>\n",
              "    <tr>\n",
              "      <th>0</th>\n",
              "      <td>@VirginAmerica What @dhepburn said.</td>\n",
              "      <td>what said</td>\n",
              "    </tr>\n",
              "    <tr>\n",
              "      <th>1</th>\n",
              "      <td>@VirginAmerica plus you've added commercials t...</td>\n",
              "      <td>plus you ve added commercials to the experienc...</td>\n",
              "    </tr>\n",
              "    <tr>\n",
              "      <th>2</th>\n",
              "      <td>@VirginAmerica I didn't today... Must mean I n...</td>\n",
              "      <td>i didn t today must mean i need to take anothe...</td>\n",
              "    </tr>\n",
              "    <tr>\n",
              "      <th>3</th>\n",
              "      <td>@VirginAmerica it's really aggressive to blast...</td>\n",
              "      <td>it s really aggressive to blast obnoxious ente...</td>\n",
              "    </tr>\n",
              "    <tr>\n",
              "      <th>4</th>\n",
              "      <td>@VirginAmerica and it's a really big bad thing...</td>\n",
              "      <td>and it s a really big bad thing about it</td>\n",
              "    </tr>\n",
              "    <tr>\n",
              "      <th>...</th>\n",
              "      <td>...</td>\n",
              "      <td>...</td>\n",
              "    </tr>\n",
              "    <tr>\n",
              "      <th>14635</th>\n",
              "      <td>@AmericanAir thank you we got on a different f...</td>\n",
              "      <td>thank you we got on a different flight to chicago</td>\n",
              "    </tr>\n",
              "    <tr>\n",
              "      <th>14636</th>\n",
              "      <td>@AmericanAir leaving over 20 minutes Late Flig...</td>\n",
              "      <td>leaving over  minutes late flight no warnings ...</td>\n",
              "    </tr>\n",
              "    <tr>\n",
              "      <th>14637</th>\n",
              "      <td>@AmericanAir Please bring American Airlines to...</td>\n",
              "      <td>please bring american airlines to blackberry</td>\n",
              "    </tr>\n",
              "    <tr>\n",
              "      <th>14638</th>\n",
              "      <td>@AmericanAir you have my money, you change my ...</td>\n",
              "      <td>you have my money you change my flight and don...</td>\n",
              "    </tr>\n",
              "    <tr>\n",
              "      <th>14639</th>\n",
              "      <td>@AmericanAir we have 8 ppl so we need 2 know h...</td>\n",
              "      <td>we have  ppl so we need  know how many seats a...</td>\n",
              "    </tr>\n",
              "  </tbody>\n",
              "</table>\n",
              "<p>14640 rows × 2 columns</p>\n",
              "</div>"
            ],
            "text/plain": [
              "                                                    text                                       updated_text\n",
              "0                    @VirginAmerica What @dhepburn said.                                          what said\n",
              "1      @VirginAmerica plus you've added commercials t...  plus you ve added commercials to the experienc...\n",
              "2      @VirginAmerica I didn't today... Must mean I n...  i didn t today must mean i need to take anothe...\n",
              "3      @VirginAmerica it's really aggressive to blast...  it s really aggressive to blast obnoxious ente...\n",
              "4      @VirginAmerica and it's a really big bad thing...           and it s a really big bad thing about it\n",
              "...                                                  ...                                                ...\n",
              "14635  @AmericanAir thank you we got on a different f...  thank you we got on a different flight to chicago\n",
              "14636  @AmericanAir leaving over 20 minutes Late Flig...  leaving over  minutes late flight no warnings ...\n",
              "14637  @AmericanAir Please bring American Airlines to...       please bring american airlines to blackberry\n",
              "14638  @AmericanAir you have my money, you change my ...  you have my money you change my flight and don...\n",
              "14639  @AmericanAir we have 8 ppl so we need 2 know h...  we have  ppl so we need  know how many seats a...\n",
              "\n",
              "[14640 rows x 2 columns]"
            ]
          },
          "metadata": {
            "tags": []
          },
          "execution_count": 46
        }
      ]
    },
    {
      "cell_type": "markdown",
      "metadata": {
        "id": "Ng2MSVhJWMj_",
        "colab_type": "text"
      },
      "source": [
        "Identifying the empty strings after cleaning and droping the respective rows"
      ]
    },
    {
      "cell_type": "code",
      "metadata": {
        "id": "RnjEoRjBMVrg",
        "colab_type": "code",
        "colab": {
          "base_uri": "https://localhost:8080/",
          "height": 35
        },
        "outputId": "edf002d2-0ccf-47ec-aeee-d4b5ebc93a55"
      },
      "source": [
        "blanks = []\n",
        "for index, text in pd.DataFrame(dataset['updated_text']).itertuples():\n",
        "  if type(text)==str:\n",
        "    if len(text)==0:\n",
        "      blanks.append(index)\n",
        "print(len(blanks))"
      ],
      "execution_count": null,
      "outputs": [
        {
          "output_type": "stream",
          "text": [
            "0\n"
          ],
          "name": "stdout"
        }
      ]
    },
    {
      "cell_type": "code",
      "metadata": {
        "id": "KjyaCM0ROjqr",
        "colab_type": "code",
        "colab": {}
      },
      "source": [
        "dataset.drop(blanks, inplace=True)"
      ],
      "execution_count": null,
      "outputs": []
    },
    {
      "cell_type": "markdown",
      "metadata": {
        "id": "7YhVqGn-28wJ",
        "colab_type": "text"
      },
      "source": [
        "**Splitting the dataset into train and test set**"
      ]
    },
    {
      "cell_type": "markdown",
      "metadata": {
        "id": "Gpq9SYxUXVpP",
        "colab_type": "text"
      },
      "source": [
        "Assigning the X and y values"
      ]
    },
    {
      "cell_type": "code",
      "metadata": {
        "id": "OGB1Mcc7WWNo",
        "colab_type": "code",
        "colab": {}
      },
      "source": [
        "X = dataset['updated_text'].values\n",
        "y = dataset['Target Value'].values"
      ],
      "execution_count": null,
      "outputs": []
    },
    {
      "cell_type": "code",
      "metadata": {
        "id": "1tZoNFUx2ztt",
        "colab_type": "code",
        "colab": {}
      },
      "source": [
        "from sklearn.model_selection import train_test_split\n",
        "X_train, X_test, y_train, y_test = train_test_split(X, y, test_size = 0.2, random_state = 0, stratify = y)"
      ],
      "execution_count": null,
      "outputs": []
    },
    {
      "cell_type": "markdown",
      "metadata": {
        "id": "Zynz8Kombw3A",
        "colab_type": "text"
      },
      "source": [
        "CountVectorizer to tokenize, and have tf-idf for the matrix.\n",
        "\n",
        "Analysis were performed for Logistic Regression and Random Forest, and got the best results for Logistic regression.\n"
      ]
    },
    {
      "cell_type": "code",
      "metadata": {
        "colab_type": "code",
        "id": "S22aWMUILehz",
        "colab": {}
      },
      "source": [
        "from sklearn.pipeline import Pipeline\n",
        "from sklearn.feature_extraction.text import CountVectorizer\n",
        "from sklearn.feature_extraction.text import TfidfTransformer\n",
        "from sklearn.linear_model import LogisticRegression\n",
        "from sklearn.ensemble import RandomForestClassifier\n",
        "\n",
        "pipeline = Pipeline([\n",
        "              (\"countvectorizer\", CountVectorizer()),\n",
        "              (\"tf-idf\", TfidfTransformer()),\n",
        "              (\"Logistic Regression\", LogisticRegression(max_iter=200, random_state = 0))\n",
        "              #(\"Random Forest Classifier\", RandomForestClassifier(n_estimators = 100))      \n",
        "])"
      ],
      "execution_count": null,
      "outputs": []
    },
    {
      "cell_type": "markdown",
      "metadata": {
        "id": "T1o0JneoLqMN",
        "colab_type": "text"
      },
      "source": [
        "**Building the model**"
      ]
    },
    {
      "cell_type": "code",
      "metadata": {
        "id": "VyX7V3LILnzj",
        "colab_type": "code",
        "colab": {
          "base_uri": "https://localhost:8080/",
          "height": 426
        },
        "outputId": "9f5f8756-3b7c-4efc-d6b9-5be930137e6d"
      },
      "source": [
        "pipeline.fit(X_train, y_train)"
      ],
      "execution_count": null,
      "outputs": [
        {
          "output_type": "execute_result",
          "data": {
            "text/plain": [
              "Pipeline(memory=None,\n",
              "         steps=[('countvectorizer',\n",
              "                 CountVectorizer(analyzer='word', binary=False,\n",
              "                                 decode_error='strict',\n",
              "                                 dtype=<class 'numpy.int64'>, encoding='utf-8',\n",
              "                                 input='content', lowercase=True, max_df=1.0,\n",
              "                                 max_features=None, min_df=1,\n",
              "                                 ngram_range=(1, 1), preprocessor=None,\n",
              "                                 stop_words=None, strip_accents=None,\n",
              "                                 token_pattern='(?u)\\\\b\\\\w\\\\w+\\\\b',\n",
              "                                 tokenizer=None, voc...\n",
              "                ('tf-idf',\n",
              "                 TfidfTransformer(norm='l2', smooth_idf=True,\n",
              "                                  sublinear_tf=False, use_idf=True)),\n",
              "                ('Logistic Regression',\n",
              "                 LogisticRegression(C=1.0, class_weight=None, dual=False,\n",
              "                                    fit_intercept=True, intercept_scaling=1,\n",
              "                                    l1_ratio=None, max_iter=200,\n",
              "                                    multi_class='auto', n_jobs=None,\n",
              "                                    penalty='l2', random_state=0,\n",
              "                                    solver='lbfgs', tol=0.0001, verbose=0,\n",
              "                                    warm_start=False))],\n",
              "         verbose=False)"
            ]
          },
          "metadata": {
            "tags": []
          },
          "execution_count": 52
        }
      ]
    },
    {
      "cell_type": "markdown",
      "metadata": {
        "id": "mUb_MGiA3MB4",
        "colab_type": "text"
      },
      "source": [
        "**Predict the test set results**"
      ]
    },
    {
      "cell_type": "code",
      "metadata": {
        "id": "4tyem1Xn3Dpt",
        "colab_type": "code",
        "colab": {
          "base_uri": "https://localhost:8080/",
          "height": 141
        },
        "outputId": "cff49cdb-61d8-43cb-babf-b703dbf46134"
      },
      "source": [
        "y_pred = pipeline.predict(X_test)\n",
        "print(np.concatenate((y_test.reshape(len(y_test), 1), y_pred.reshape(len(y_pred), 1)), 1))"
      ],
      "execution_count": null,
      "outputs": [
        {
          "output_type": "stream",
          "text": [
            "[[0 0]\n",
            " [0 0]\n",
            " [2 2]\n",
            " ...\n",
            " [0 0]\n",
            " [0 0]\n",
            " [2 0]]\n"
          ],
          "name": "stdout"
        }
      ]
    },
    {
      "cell_type": "markdown",
      "metadata": {
        "id": "Xk2KR_D6cLap",
        "colab_type": "text"
      },
      "source": [
        "Check the comparison of the actual and predicted value above."
      ]
    },
    {
      "cell_type": "markdown",
      "metadata": {
        "id": "6y3zLzrn3SHL",
        "colab_type": "text"
      },
      "source": [
        "**Making the confusion Matrix**"
      ]
    },
    {
      "cell_type": "code",
      "metadata": {
        "id": "P8wxx8R53Or2",
        "colab_type": "code",
        "colab": {
          "base_uri": "https://localhost:8080/",
          "height": 70
        },
        "outputId": "778272f0-7098-4cae-81d7-d726a6a2d542"
      },
      "source": [
        "from sklearn.metrics import confusion_matrix, classification_report\n",
        "cm = confusion_matrix(y_test, y_pred)\n",
        "print(cm)"
      ],
      "execution_count": null,
      "outputs": [
        {
          "output_type": "stream",
          "text": [
            "[[1737   75   24]\n",
            " [ 264  317   39]\n",
            " [ 126   61  285]]\n"
          ],
          "name": "stdout"
        }
      ]
    },
    {
      "cell_type": "markdown",
      "metadata": {
        "id": "XjfIY3FUB6Ku",
        "colab_type": "text"
      },
      "source": [
        "\n",
        "> **Neutral** - 1\n",
        "\n",
        "> **Positive** - 2\n",
        "\n",
        "> **Negative** - 0\n"
      ]
    },
    {
      "cell_type": "code",
      "metadata": {
        "id": "Em_foOjaBRhW",
        "colab_type": "code",
        "colab": {
          "base_uri": "https://localhost:8080/",
          "height": 283
        },
        "outputId": "1217f487-a584-493a-9e53-12b4a8884844"
      },
      "source": [
        "sns.heatmap(cm/np.sum(cm), annot=True, fmt='.2%', cmap='Blues')"
      ],
      "execution_count": null,
      "outputs": [
        {
          "output_type": "execute_result",
          "data": {
            "text/plain": [
              "<matplotlib.axes._subplots.AxesSubplot at 0x7f05e22e0320>"
            ]
          },
          "metadata": {
            "tags": []
          },
          "execution_count": 55
        },
        {
          "output_type": "display_data",
          "data": {
            "image/png": "[encoded data removed]",
            "text/plain": [
              "<Figure size 432x288 with 2 Axes>"
            ]
          },
          "metadata": {
            "tags": [],
            "needs_background": "light"
          }
        }
      ]
    },
    {
      "cell_type": "code",
      "metadata": {
        "id": "tqRHDFG93U65",
        "colab_type": "code",
        "colab": {
          "base_uri": "https://localhost:8080/",
          "height": 195
        },
        "outputId": "6b9781cd-9012-4009-bada-a1d29263d8e5"
      },
      "source": [
        "#classification Report\n",
        "print(classification_report(y_test, y_pred))"
      ],
      "execution_count": null,
      "outputs": [
        {
          "output_type": "stream",
          "text": [
            "              precision    recall  f1-score   support\n",
            "\n",
            "           0       0.82      0.95      0.88      1836\n",
            "           1       0.70      0.51      0.59       620\n",
            "           2       0.82      0.60      0.70       472\n",
            "\n",
            "    accuracy                           0.80      2928\n",
            "   macro avg       0.78      0.69      0.72      2928\n",
            "weighted avg       0.79      0.80      0.79      2928\n",
            "\n"
          ],
          "name": "stdout"
        }
      ]
    },
    {
      "cell_type": "markdown",
      "metadata": {
        "id": "UXECbEqi_Ay9",
        "colab_type": "text"
      },
      "source": [
        "*The best till now is with logistic regression with an accuracy score of 80%*"
      ]
    },
    {
      "cell_type": "markdown",
      "metadata": {
        "id": "AxQiHvzlBmoM",
        "colab_type": "text"
      },
      "source": [
        "### **By Vadar Method**"
      ]
    },
    {
      "cell_type": "markdown",
      "metadata": {
        "id": "dRZhgYwTcZOE",
        "colab_type": "text"
      },
      "source": [
        "Computing based on the polarity scores."
      ]
    },
    {
      "cell_type": "code",
      "metadata": {
        "id": "pt63hi7gBqja",
        "colab_type": "code",
        "colab": {
          "base_uri": "https://localhost:8080/",
          "height": 70
        },
        "outputId": "53bb76b3-8743-4d6d-c55e-caea760fdda3"
      },
      "source": [
        "import nltk\n",
        "nltk.download(\"vader_lexicon\")"
      ],
      "execution_count": null,
      "outputs": [
        {
          "output_type": "stream",
          "text": [
            "[nltk_data] Downloading package vader_lexicon to /root/nltk_data...\n",
            "[nltk_data]   Package vader_lexicon is already up-to-date!\n"
          ],
          "name": "stdout"
        },
        {
          "output_type": "execute_result",
          "data": {
            "text/plain": [
              "True"
            ]
          },
          "metadata": {
            "tags": []
          },
          "execution_count": 57
        }
      ]
    },
    {
      "cell_type": "code",
      "metadata": {
        "id": "cfWs-Oz9B2vf",
        "colab_type": "code",
        "colab": {
          "base_uri": "https://localhost:8080/",
          "height": 72
        },
        "outputId": "61256735-7947-4490-e7a0-f8b6e662f8fc"
      },
      "source": [
        "from nltk.sentiment.vader import SentimentIntensityAnalyzer\n",
        "sid = SentimentIntensityAnalyzer()"
      ],
      "execution_count": null,
      "outputs": [
        {
          "output_type": "stream",
          "text": [
            "/usr/local/lib/python3.6/dist-packages/nltk/twitter/__init__.py:20: UserWarning: The twython library has not been installed. Some functionality from the twitter package will not be available.\n",
            "  warnings.warn(\"The twython library has not been installed. \"\n"
          ],
          "name": "stderr"
        }
      ]
    },
    {
      "cell_type": "markdown",
      "metadata": {
        "id": "r-s8oPAa_ZFj",
        "colab_type": "text"
      },
      "source": [
        "***Computing the positive, negative, neutral, compound scores for each tweet.***"
      ]
    },
    {
      "cell_type": "code",
      "metadata": {
        "id": "kpY4ZHgLB4ux",
        "colab_type": "code",
        "colab": {
          "base_uri": "https://localhost:8080/",
          "height": 526
        },
        "outputId": "93a068ea-a249-4c81-9ee2-ef2850063383"
      },
      "source": [
        "dataset['Sentiments'] = dataset['text'].apply(lambda review: sid.polarity_scores(review))\n",
        "dataset['Positive Score'] = dataset['Sentiments'].apply(lambda positive: positive['pos'])\n",
        "dataset['Negative Score'] = dataset['Sentiments'].apply(lambda negative: negative['neg'])\n",
        "dataset['Neutral Score'] = dataset['Sentiments'].apply(lambda neutral: neutral['neu'])\n",
        "dataset['Compound'] = dataset['Sentiments'].apply(lambda compound: compound['compound'])\n",
        "\n",
        "dataset  = dataset.drop(['airline_sentiment_confidence',\t'negativereason',\t'negativereason_confidence',\t'airline',\t\n",
        "                                        'retweet_count', 'tweet_created',\t'tweet_location',\t'user_timezone',\t\n",
        "                                        'Sentiments'], axis = 1)\n",
        "\n",
        "dataset.head(10)"
      ],
      "execution_count": null,
      "outputs": [
        {
          "output_type": "execute_result",
          "data": {
            "text/html": [
              "<div>\n",
              "<style scoped>\n",
              "    .dataframe tbody tr th:only-of-type {\n",
              "        vertical-align: middle;\n",
              "    }\n",
              "\n",
              "    .dataframe tbody tr th {\n",
              "        vertical-align: top;\n",
              "    }\n",
              "\n",
              "    .dataframe thead th {\n",
              "        text-align: right;\n",
              "    }\n",
              "</style>\n",
              "<table border=\"1\" class=\"dataframe\">\n",
              "  <thead>\n",
              "    <tr style=\"text-align: right;\">\n",
              "      <th></th>\n",
              "      <th>airline_sentiment</th>\n",
              "      <th>text</th>\n",
              "      <th>text length</th>\n",
              "      <th>words count</th>\n",
              "      <th>Target Value</th>\n",
              "      <th>updated_text</th>\n",
              "      <th>Positive Score</th>\n",
              "      <th>Negative Score</th>\n",
              "      <th>Neutral Score</th>\n",
              "      <th>Compound</th>\n",
              "    </tr>\n",
              "  </thead>\n",
              "  <tbody>\n",
              "    <tr>\n",
              "      <th>0</th>\n",
              "      <td>neutral</td>\n",
              "      <td>@VirginAmerica What @dhepburn said.</td>\n",
              "      <td>35</td>\n",
              "      <td>4</td>\n",
              "      <td>1</td>\n",
              "      <td>what said</td>\n",
              "      <td>0.000</td>\n",
              "      <td>0.000</td>\n",
              "      <td>1.000</td>\n",
              "      <td>0.0000</td>\n",
              "    </tr>\n",
              "    <tr>\n",
              "      <th>1</th>\n",
              "      <td>positive</td>\n",
              "      <td>@VirginAmerica plus you've added commercials t...</td>\n",
              "      <td>72</td>\n",
              "      <td>9</td>\n",
              "      <td>2</td>\n",
              "      <td>plus you ve added commercials to the experienc...</td>\n",
              "      <td>0.000</td>\n",
              "      <td>0.000</td>\n",
              "      <td>1.000</td>\n",
              "      <td>0.0000</td>\n",
              "    </tr>\n",
              "    <tr>\n",
              "      <th>2</th>\n",
              "      <td>neutral</td>\n",
              "      <td>@VirginAmerica I didn't today... Must mean I n...</td>\n",
              "      <td>71</td>\n",
              "      <td>12</td>\n",
              "      <td>1</td>\n",
              "      <td>i didn t today must mean i need to take anothe...</td>\n",
              "      <td>0.000</td>\n",
              "      <td>0.000</td>\n",
              "      <td>1.000</td>\n",
              "      <td>0.0000</td>\n",
              "    </tr>\n",
              "    <tr>\n",
              "      <th>3</th>\n",
              "      <td>negative</td>\n",
              "      <td>@VirginAmerica it's really aggressive to blast...</td>\n",
              "      <td>126</td>\n",
              "      <td>17</td>\n",
              "      <td>0</td>\n",
              "      <td>it s really aggressive to blast obnoxious ente...</td>\n",
              "      <td>0.000</td>\n",
              "      <td>0.246</td>\n",
              "      <td>0.754</td>\n",
              "      <td>-0.5984</td>\n",
              "    </tr>\n",
              "    <tr>\n",
              "      <th>4</th>\n",
              "      <td>negative</td>\n",
              "      <td>@VirginAmerica and it's a really big bad thing...</td>\n",
              "      <td>55</td>\n",
              "      <td>10</td>\n",
              "      <td>0</td>\n",
              "      <td>and it s a really big bad thing about it</td>\n",
              "      <td>0.000</td>\n",
              "      <td>0.321</td>\n",
              "      <td>0.679</td>\n",
              "      <td>-0.5829</td>\n",
              "    </tr>\n",
              "    <tr>\n",
              "      <th>5</th>\n",
              "      <td>negative</td>\n",
              "      <td>@VirginAmerica seriously would pay $30 a fligh...</td>\n",
              "      <td>135</td>\n",
              "      <td>23</td>\n",
              "      <td>0</td>\n",
              "      <td>seriously would pay  a flight for seats that d...</td>\n",
              "      <td>0.074</td>\n",
              "      <td>0.256</td>\n",
              "      <td>0.670</td>\n",
              "      <td>-0.5945</td>\n",
              "    </tr>\n",
              "    <tr>\n",
              "      <th>6</th>\n",
              "      <td>positive</td>\n",
              "      <td>@VirginAmerica yes, nearly every time I fly VX...</td>\n",
              "      <td>79</td>\n",
              "      <td>15</td>\n",
              "      <td>2</td>\n",
              "      <td>yes nearly every time i fly vx this ear worm w...</td>\n",
              "      <td>0.322</td>\n",
              "      <td>0.000</td>\n",
              "      <td>0.678</td>\n",
              "      <td>0.6908</td>\n",
              "    </tr>\n",
              "    <tr>\n",
              "      <th>7</th>\n",
              "      <td>neutral</td>\n",
              "      <td>@VirginAmerica Really missed a prime opportuni...</td>\n",
              "      <td>108</td>\n",
              "      <td>13</td>\n",
              "      <td>1</td>\n",
              "      <td>really missed a prime opportunity for men with...</td>\n",
              "      <td>0.197</td>\n",
              "      <td>0.160</td>\n",
              "      <td>0.643</td>\n",
              "      <td>0.1458</td>\n",
              "    </tr>\n",
              "    <tr>\n",
              "      <th>8</th>\n",
              "      <td>positive</td>\n",
              "      <td>@virginamerica Well, I didn't…but NOW I DO! :-D</td>\n",
              "      <td>47</td>\n",
              "      <td>8</td>\n",
              "      <td>2</td>\n",
              "      <td>well i didn t but now i do d</td>\n",
              "      <td>0.218</td>\n",
              "      <td>0.367</td>\n",
              "      <td>0.415</td>\n",
              "      <td>-0.3477</td>\n",
              "    </tr>\n",
              "    <tr>\n",
              "      <th>9</th>\n",
              "      <td>positive</td>\n",
              "      <td>@VirginAmerica it was amazing, and arrived an ...</td>\n",
              "      <td>80</td>\n",
              "      <td>14</td>\n",
              "      <td>2</td>\n",
              "      <td>it was amazing and arrived an hour early you r...</td>\n",
              "      <td>0.358</td>\n",
              "      <td>0.000</td>\n",
              "      <td>0.642</td>\n",
              "      <td>0.7717</td>\n",
              "    </tr>\n",
              "  </tbody>\n",
              "</table>\n",
              "</div>"
            ],
            "text/plain": [
              "  airline_sentiment  ... Compound\n",
              "0           neutral  ...   0.0000\n",
              "1          positive  ...   0.0000\n",
              "2           neutral  ...   0.0000\n",
              "3          negative  ...  -0.5984\n",
              "4          negative  ...  -0.5829\n",
              "5          negative  ...  -0.5945\n",
              "6          positive  ...   0.6908\n",
              "7           neutral  ...   0.1458\n",
              "8          positive  ...  -0.3477\n",
              "9          positive  ...   0.7717\n",
              "\n",
              "[10 rows x 10 columns]"
            ]
          },
          "metadata": {
            "tags": []
          },
          "execution_count": 59
        }
      ]
    },
    {
      "cell_type": "markdown",
      "metadata": {
        "id": "HZfo2DtNljzR",
        "colab_type": "text"
      },
      "source": [
        "**Now, lets build a model based on the sentiment scores we have obtained.**\n"
      ]
    },
    {
      "cell_type": "code",
      "metadata": {
        "id": "Lm2XiS_GCJ_x",
        "colab_type": "code",
        "colab": {
          "base_uri": "https://localhost:8080/",
          "height": 52
        },
        "outputId": "a6059bf2-747b-45b1-903c-6360c245df33"
      },
      "source": [
        "X_vadar = dataset.iloc[:, 6:10].values\n",
        "y_vadar = y\n",
        "print(X_vadar.shape)\n",
        "print(y.shape)"
      ],
      "execution_count": null,
      "outputs": [
        {
          "output_type": "stream",
          "text": [
            "(14640, 4)\n",
            "(14640,)\n"
          ],
          "name": "stdout"
        }
      ]
    },
    {
      "cell_type": "markdown",
      "metadata": {
        "id": "9eG1VD48mpJN",
        "colab_type": "text"
      },
      "source": [
        "**Splitting the dataset into train and test set**"
      ]
    },
    {
      "cell_type": "code",
      "metadata": {
        "id": "5evnadzilJhF",
        "colab_type": "code",
        "colab": {}
      },
      "source": [
        "from sklearn.model_selection import train_test_split\n",
        "X_train_vadar, X_test_vadar, y_train_vadar, y_test_vadar = train_test_split(X_vadar, y_vadar, test_size = 0.2, random_state = 0, stratify = y_vadar)"
      ],
      "execution_count": null,
      "outputs": []
    },
    {
      "cell_type": "markdown",
      "metadata": {
        "id": "6G87nZ2onBCQ",
        "colab_type": "text"
      },
      "source": [
        "**Building the model**"
      ]
    },
    {
      "cell_type": "code",
      "metadata": {
        "id": "4yzcX0_1m0uj",
        "colab_type": "code",
        "colab": {
          "base_uri": "https://localhost:8080/",
          "height": 106
        },
        "outputId": "f877b588-2b16-46fc-c279-8d9b257bcad9"
      },
      "source": [
        "from sklearn.linear_model import LogisticRegression\n",
        "classifier_vadar = LogisticRegression(max_iter=500, random_state=0)\n",
        "classifier_vadar.fit(X_train_vadar, y_train_vadar)"
      ],
      "execution_count": null,
      "outputs": [
        {
          "output_type": "execute_result",
          "data": {
            "text/plain": [
              "LogisticRegression(C=1.0, class_weight=None, dual=False, fit_intercept=True,\n",
              "                   intercept_scaling=1, l1_ratio=None, max_iter=500,\n",
              "                   multi_class='auto', n_jobs=None, penalty='l2',\n",
              "                   random_state=0, solver='lbfgs', tol=0.0001, verbose=0,\n",
              "                   warm_start=False)"
            ]
          },
          "metadata": {
            "tags": []
          },
          "execution_count": 62
        }
      ]
    },
    {
      "cell_type": "markdown",
      "metadata": {
        "id": "RaMOwPq1nZ18",
        "colab_type": "text"
      },
      "source": [
        "**Predicting the test results**"
      ]
    },
    {
      "cell_type": "code",
      "metadata": {
        "id": "8wvznm8AnVDA",
        "colab_type": "code",
        "colab": {
          "base_uri": "https://localhost:8080/",
          "height": 141
        },
        "outputId": "530814e4-8111-47c2-d430-0a24267dad2c"
      },
      "source": [
        "y_pred_vadar = classifier_vadar.predict(X_test_vadar)\n",
        "print(np.concatenate((y_test_vadar.reshape(len(y_test_vadar), 1), y_pred_vadar.reshape(len(y_pred_vadar), 1)), 1))"
      ],
      "execution_count": null,
      "outputs": [
        {
          "output_type": "stream",
          "text": [
            "[[0 0]\n",
            " [0 0]\n",
            " [2 2]\n",
            " ...\n",
            " [0 0]\n",
            " [0 0]\n",
            " [2 0]]\n"
          ],
          "name": "stdout"
        }
      ]
    },
    {
      "cell_type": "markdown",
      "metadata": {
        "id": "IwuEWYXCnhwe",
        "colab_type": "text"
      },
      "source": [
        "**Making the confusion matrix**"
      ]
    },
    {
      "cell_type": "code",
      "metadata": {
        "id": "3fUmAbQ_ndp1",
        "colab_type": "code",
        "colab": {
          "base_uri": "https://localhost:8080/",
          "height": 70
        },
        "outputId": "28e9b013-62f6-4650-c3d5-8d583224b486"
      },
      "source": [
        "from sklearn.metrics import confusion_matrix, classification_report\n",
        "cm_vadar = confusion_matrix(y_test_vadar, y_pred_vadar)\n",
        "print(cm_vadar)"
      ],
      "execution_count": null,
      "outputs": [
        {
          "output_type": "stream",
          "text": [
            "[[1758    3   75]\n",
            " [ 534    3   83]\n",
            " [ 191    2  279]]\n"
          ],
          "name": "stdout"
        }
      ]
    },
    {
      "cell_type": "code",
      "metadata": {
        "id": "fi3-pdnQqkY8",
        "colab_type": "code",
        "colab": {
          "base_uri": "https://localhost:8080/",
          "height": 287
        },
        "outputId": "c2a36fa1-5677-43fb-8e60-eeca2141a413"
      },
      "source": [
        "sns.heatmap(cm_vadar/np.sum(cm_vadar), annot=True, fmt='.2%', cmap='Blues')"
      ],
      "execution_count": null,
      "outputs": [
        {
          "output_type": "execute_result",
          "data": {
            "text/plain": [
              "<matplotlib.axes._subplots.AxesSubplot at 0x7f05e21043c8>"
            ]
          },
          "metadata": {
            "tags": []
          },
          "execution_count": 65
        },
        {
          "output_type": "display_data",
          "data": {
            "image/png": "[encoded data removed]",
            "text/plain": [
              "<Figure size 432x288 with 2 Axes>"
            ]
          },
          "metadata": {
            "tags": [],
            "needs_background": "light"
          }
        }
      ]
    },
    {
      "cell_type": "code",
      "metadata": {
        "id": "xUD9BYndqrv_",
        "colab_type": "code",
        "colab": {
          "base_uri": "https://localhost:8080/",
          "height": 195
        },
        "outputId": "b8a729b1-44a5-4e46-804c-96df9fb0c756"
      },
      "source": [
        "# classification report\n",
        "print(classification_report(y_test_vadar, y_pred_vadar))"
      ],
      "execution_count": null,
      "outputs": [
        {
          "output_type": "stream",
          "text": [
            "              precision    recall  f1-score   support\n",
            "\n",
            "           0       0.71      0.96      0.81      1836\n",
            "           1       0.38      0.00      0.01       620\n",
            "           2       0.64      0.59      0.61       472\n",
            "\n",
            "    accuracy                           0.70      2928\n",
            "   macro avg       0.57      0.52      0.48      2928\n",
            "weighted avg       0.63      0.70      0.61      2928\n",
            "\n"
          ],
          "name": "stdout"
        }
      ]
    },
    {
      "cell_type": "markdown",
      "metadata": {
        "colab_type": "text",
        "id": "P6HefT6Jnpkk"
      },
      "source": [
        "\n",
        "> **Neutral** - 1\n",
        "\n",
        "> **Positive** - 2\n",
        "\n",
        "> **Negative** - 0\n"
      ]
    },
    {
      "cell_type": "markdown",
      "metadata": {
        "id": "RPtjmnsUuVYb",
        "colab_type": "text"
      },
      "source": [
        "***Result: This method seems to be wrong, as you could see the model doesn't predict the \"neutral\" case well. Check the precision, recall and f1-score for the 1 value : neutral***\n",
        "\n",
        "Accuracy Score = 70%"
      ]
    },
    {
      "cell_type": "markdown",
      "metadata": {
        "id": "bPdE7rfA_uVp",
        "colab_type": "text"
      },
      "source": [
        "Now, let's try by simply comparing the compound score and the target value"
      ]
    },
    {
      "cell_type": "code",
      "metadata": {
        "id": "TFqF8SRQunqG",
        "colab_type": "code",
        "colab": {
          "base_uri": "https://localhost:8080/",
          "height": 295
        },
        "outputId": "dedc8337-c8d3-4a0b-be5c-f526ef17d072"
      },
      "source": [
        "dataset.head()"
      ],
      "execution_count": null,
      "outputs": [
        {
          "output_type": "execute_result",
          "data": {
            "text/html": [
              "<div>\n",
              "<style scoped>\n",
              "    .dataframe tbody tr th:only-of-type {\n",
              "        vertical-align: middle;\n",
              "    }\n",
              "\n",
              "    .dataframe tbody tr th {\n",
              "        vertical-align: top;\n",
              "    }\n",
              "\n",
              "    .dataframe thead th {\n",
              "        text-align: right;\n",
              "    }\n",
              "</style>\n",
              "<table border=\"1\" class=\"dataframe\">\n",
              "  <thead>\n",
              "    <tr style=\"text-align: right;\">\n",
              "      <th></th>\n",
              "      <th>airline_sentiment</th>\n",
              "      <th>text</th>\n",
              "      <th>text length</th>\n",
              "      <th>words count</th>\n",
              "      <th>Target Value</th>\n",
              "      <th>updated_text</th>\n",
              "      <th>Positive Score</th>\n",
              "      <th>Negative Score</th>\n",
              "      <th>Neutral Score</th>\n",
              "      <th>Compound</th>\n",
              "    </tr>\n",
              "  </thead>\n",
              "  <tbody>\n",
              "    <tr>\n",
              "      <th>0</th>\n",
              "      <td>neutral</td>\n",
              "      <td>@VirginAmerica What @dhepburn said.</td>\n",
              "      <td>35</td>\n",
              "      <td>4</td>\n",
              "      <td>1</td>\n",
              "      <td>what said</td>\n",
              "      <td>0.0</td>\n",
              "      <td>0.000</td>\n",
              "      <td>1.000</td>\n",
              "      <td>0.0000</td>\n",
              "    </tr>\n",
              "    <tr>\n",
              "      <th>1</th>\n",
              "      <td>positive</td>\n",
              "      <td>@VirginAmerica plus you've added commercials t...</td>\n",
              "      <td>72</td>\n",
              "      <td>9</td>\n",
              "      <td>2</td>\n",
              "      <td>plus you ve added commercials to the experienc...</td>\n",
              "      <td>0.0</td>\n",
              "      <td>0.000</td>\n",
              "      <td>1.000</td>\n",
              "      <td>0.0000</td>\n",
              "    </tr>\n",
              "    <tr>\n",
              "      <th>2</th>\n",
              "      <td>neutral</td>\n",
              "      <td>@VirginAmerica I didn't today... Must mean I n...</td>\n",
              "      <td>71</td>\n",
              "      <td>12</td>\n",
              "      <td>1</td>\n",
              "      <td>i didn t today must mean i need to take anothe...</td>\n",
              "      <td>0.0</td>\n",
              "      <td>0.000</td>\n",
              "      <td>1.000</td>\n",
              "      <td>0.0000</td>\n",
              "    </tr>\n",
              "    <tr>\n",
              "      <th>3</th>\n",
              "      <td>negative</td>\n",
              "      <td>@VirginAmerica it's really aggressive to blast...</td>\n",
              "      <td>126</td>\n",
              "      <td>17</td>\n",
              "      <td>0</td>\n",
              "      <td>it s really aggressive to blast obnoxious ente...</td>\n",
              "      <td>0.0</td>\n",
              "      <td>0.246</td>\n",
              "      <td>0.754</td>\n",
              "      <td>-0.5984</td>\n",
              "    </tr>\n",
              "    <tr>\n",
              "      <th>4</th>\n",
              "      <td>negative</td>\n",
              "      <td>@VirginAmerica and it's a really big bad thing...</td>\n",
              "      <td>55</td>\n",
              "      <td>10</td>\n",
              "      <td>0</td>\n",
              "      <td>and it s a really big bad thing about it</td>\n",
              "      <td>0.0</td>\n",
              "      <td>0.321</td>\n",
              "      <td>0.679</td>\n",
              "      <td>-0.5829</td>\n",
              "    </tr>\n",
              "  </tbody>\n",
              "</table>\n",
              "</div>"
            ],
            "text/plain": [
              "  airline_sentiment  ... Compound\n",
              "0           neutral  ...   0.0000\n",
              "1          positive  ...   0.0000\n",
              "2           neutral  ...   0.0000\n",
              "3          negative  ...  -0.5984\n",
              "4          negative  ...  -0.5829\n",
              "\n",
              "[5 rows x 10 columns]"
            ]
          },
          "metadata": {
            "tags": []
          },
          "execution_count": 67
        }
      ]
    },
    {
      "cell_type": "code",
      "metadata": {
        "id": "IWdaG7aRurXZ",
        "colab_type": "code",
        "colab": {}
      },
      "source": [
        "dataset['Target Value based on Polarity Scores'] = dataset['Compound'].apply(lambda value: 'neutral' if value == 0 else ('positive' if value > 0 else 'negative'))"
      ],
      "execution_count": null,
      "outputs": []
    },
    {
      "cell_type": "code",
      "metadata": {
        "id": "sCek8xGlwLa-",
        "colab_type": "code",
        "colab": {
          "base_uri": "https://localhost:8080/",
          "height": 295
        },
        "outputId": "c3bf1072-7f12-4865-a0da-e092b2987e71"
      },
      "source": [
        "dataset.head()"
      ],
      "execution_count": null,
      "outputs": [
        {
          "output_type": "execute_result",
          "data": {
            "text/html": [
              "<div>\n",
              "<style scoped>\n",
              "    .dataframe tbody tr th:only-of-type {\n",
              "        vertical-align: middle;\n",
              "    }\n",
              "\n",
              "    .dataframe tbody tr th {\n",
              "        vertical-align: top;\n",
              "    }\n",
              "\n",
              "    .dataframe thead th {\n",
              "        text-align: right;\n",
              "    }\n",
              "</style>\n",
              "<table border=\"1\" class=\"dataframe\">\n",
              "  <thead>\n",
              "    <tr style=\"text-align: right;\">\n",
              "      <th></th>\n",
              "      <th>airline_sentiment</th>\n",
              "      <th>text</th>\n",
              "      <th>text length</th>\n",
              "      <th>words count</th>\n",
              "      <th>Target Value</th>\n",
              "      <th>updated_text</th>\n",
              "      <th>Positive Score</th>\n",
              "      <th>Negative Score</th>\n",
              "      <th>Neutral Score</th>\n",
              "      <th>Compound</th>\n",
              "      <th>Target Value based on Polarity Scores</th>\n",
              "    </tr>\n",
              "  </thead>\n",
              "  <tbody>\n",
              "    <tr>\n",
              "      <th>0</th>\n",
              "      <td>neutral</td>\n",
              "      <td>@VirginAmerica What @dhepburn said.</td>\n",
              "      <td>35</td>\n",
              "      <td>4</td>\n",
              "      <td>1</td>\n",
              "      <td>what said</td>\n",
              "      <td>0.0</td>\n",
              "      <td>0.000</td>\n",
              "      <td>1.000</td>\n",
              "      <td>0.0000</td>\n",
              "      <td>neutral</td>\n",
              "    </tr>\n",
              "    <tr>\n",
              "      <th>1</th>\n",
              "      <td>positive</td>\n",
              "      <td>@VirginAmerica plus you've added commercials t...</td>\n",
              "      <td>72</td>\n",
              "      <td>9</td>\n",
              "      <td>2</td>\n",
              "      <td>plus you ve added commercials to the experienc...</td>\n",
              "      <td>0.0</td>\n",
              "      <td>0.000</td>\n",
              "      <td>1.000</td>\n",
              "      <td>0.0000</td>\n",
              "      <td>neutral</td>\n",
              "    </tr>\n",
              "    <tr>\n",
              "      <th>2</th>\n",
              "      <td>neutral</td>\n",
              "      <td>@VirginAmerica I didn't today... Must mean I n...</td>\n",
              "      <td>71</td>\n",
              "      <td>12</td>\n",
              "      <td>1</td>\n",
              "      <td>i didn t today must mean i need to take anothe...</td>\n",
              "      <td>0.0</td>\n",
              "      <td>0.000</td>\n",
              "      <td>1.000</td>\n",
              "      <td>0.0000</td>\n",
              "      <td>neutral</td>\n",
              "    </tr>\n",
              "    <tr>\n",
              "      <th>3</th>\n",
              "      <td>negative</td>\n",
              "      <td>@VirginAmerica it's really aggressive to blast...</td>\n",
              "      <td>126</td>\n",
              "      <td>17</td>\n",
              "      <td>0</td>\n",
              "      <td>it s really aggressive to blast obnoxious ente...</td>\n",
              "      <td>0.0</td>\n",
              "      <td>0.246</td>\n",
              "      <td>0.754</td>\n",
              "      <td>-0.5984</td>\n",
              "      <td>negative</td>\n",
              "    </tr>\n",
              "    <tr>\n",
              "      <th>4</th>\n",
              "      <td>negative</td>\n",
              "      <td>@VirginAmerica and it's a really big bad thing...</td>\n",
              "      <td>55</td>\n",
              "      <td>10</td>\n",
              "      <td>0</td>\n",
              "      <td>and it s a really big bad thing about it</td>\n",
              "      <td>0.0</td>\n",
              "      <td>0.321</td>\n",
              "      <td>0.679</td>\n",
              "      <td>-0.5829</td>\n",
              "      <td>negative</td>\n",
              "    </tr>\n",
              "  </tbody>\n",
              "</table>\n",
              "</div>"
            ],
            "text/plain": [
              "  airline_sentiment  ... Target Value based on Polarity Scores\n",
              "0           neutral  ...                               neutral\n",
              "1          positive  ...                               neutral\n",
              "2           neutral  ...                               neutral\n",
              "3          negative  ...                              negative\n",
              "4          negative  ...                              negative\n",
              "\n",
              "[5 rows x 11 columns]"
            ]
          },
          "metadata": {
            "tags": []
          },
          "execution_count": 69
        }
      ]
    },
    {
      "cell_type": "markdown",
      "metadata": {
        "id": "9_8Em11vxgp1",
        "colab_type": "text"
      },
      "source": [
        "*Just Comparing the airline_sentiment Column with the Target Value Column, to find how good does the sentiment Intensity Analyser predicts the sentiment*"
      ]
    },
    {
      "cell_type": "markdown",
      "metadata": {
        "id": "kAerWG1uwbcu",
        "colab_type": "text"
      },
      "source": [
        "**Making the confusion Matrix**"
      ]
    },
    {
      "cell_type": "code",
      "metadata": {
        "id": "dzAUTMbfwQg-",
        "colab_type": "code",
        "colab": {
          "base_uri": "https://localhost:8080/",
          "height": 70
        },
        "outputId": "64a3f5b2-64f2-46e3-c703-cecc427c58a2"
      },
      "source": [
        "from sklearn.metrics import confusion_matrix, classification_report\n",
        "cm_vadar_1 = confusion_matrix(dataset['airline_sentiment'], dataset['Target Value based on Polarity Scores'])\n",
        "print(cm_vadar_1)"
      ],
      "execution_count": null,
      "outputs": [
        {
          "output_type": "stream",
          "text": [
            "[[4627 1751 2800]\n",
            " [ 433 1309 1357]\n",
            " [  93  205 2065]]\n"
          ],
          "name": "stdout"
        }
      ]
    },
    {
      "cell_type": "code",
      "metadata": {
        "id": "xlJokRClwrJf",
        "colab_type": "code",
        "colab": {
          "base_uri": "https://localhost:8080/",
          "height": 195
        },
        "outputId": "28e8c5cb-5a8e-4ab8-9396-9834f5b89211"
      },
      "source": [
        "print(classification_report(dataset['airline_sentiment'], dataset['Target Value based on Polarity Scores']))"
      ],
      "execution_count": null,
      "outputs": [
        {
          "output_type": "stream",
          "text": [
            "              precision    recall  f1-score   support\n",
            "\n",
            "    negative       0.90      0.50      0.65      9178\n",
            "     neutral       0.40      0.42      0.41      3099\n",
            "    positive       0.33      0.87      0.48      2363\n",
            "\n",
            "    accuracy                           0.55     14640\n",
            "   macro avg       0.54      0.60      0.51     14640\n",
            "weighted avg       0.70      0.55      0.57     14640\n",
            "\n"
          ],
          "name": "stdout"
        }
      ]
    },
    {
      "cell_type": "markdown",
      "metadata": {
        "id": "eZzAdU67w_pp",
        "colab_type": "text"
      },
      "source": [
        "**From the above results we could see that the accuracy score went down when compared to the past. Now, Let's implement the ULMFiT model and check the results**\n",
        "\n",
        "Accuracy Score = 55%"
      ]
    },
    {
      "cell_type": "markdown",
      "metadata": {
        "id": "N9U4jdQ0J4VF",
        "colab_type": "text"
      },
      "source": [
        "## **ULMFiT Implementation**"
      ]
    },
    {
      "cell_type": "markdown",
      "metadata": {
        "id": "rjlA7q6wbwSG",
        "colab_type": "text"
      },
      "source": [
        "We have the updated clean text. Now, we have to perform the \"Language model Fine Tuning\""
      ]
    },
    {
      "cell_type": "code",
      "metadata": {
        "id": "xZupWSFsJ9wz",
        "colab_type": "code",
        "colab": {
          "base_uri": "https://localhost:8080/",
          "height": 295
        },
        "outputId": "07cb3eb2-7728-4456-9c74-c2919a31de63"
      },
      "source": [
        "dataset.head()"
      ],
      "execution_count": null,
      "outputs": [
        {
          "output_type": "execute_result",
          "data": {
            "text/html": [
              "<div>\n",
              "<style scoped>\n",
              "    .dataframe tbody tr th:only-of-type {\n",
              "        vertical-align: middle;\n",
              "    }\n",
              "\n",
              "    .dataframe tbody tr th {\n",
              "        vertical-align: top;\n",
              "    }\n",
              "\n",
              "    .dataframe thead th {\n",
              "        text-align: right;\n",
              "    }\n",
              "</style>\n",
              "<table border=\"1\" class=\"dataframe\">\n",
              "  <thead>\n",
              "    <tr style=\"text-align: right;\">\n",
              "      <th></th>\n",
              "      <th>airline_sentiment</th>\n",
              "      <th>text</th>\n",
              "      <th>text length</th>\n",
              "      <th>words count</th>\n",
              "      <th>Target Value</th>\n",
              "      <th>updated_text</th>\n",
              "      <th>Positive Score</th>\n",
              "      <th>Negative Score</th>\n",
              "      <th>Neutral Score</th>\n",
              "      <th>Compound</th>\n",
              "      <th>Target Value based on Polarity Scores</th>\n",
              "    </tr>\n",
              "  </thead>\n",
              "  <tbody>\n",
              "    <tr>\n",
              "      <th>0</th>\n",
              "      <td>neutral</td>\n",
              "      <td>@VirginAmerica What @dhepburn said.</td>\n",
              "      <td>35</td>\n",
              "      <td>4</td>\n",
              "      <td>1</td>\n",
              "      <td>what said</td>\n",
              "      <td>0.0</td>\n",
              "      <td>0.000</td>\n",
              "      <td>1.000</td>\n",
              "      <td>0.0000</td>\n",
              "      <td>neutral</td>\n",
              "    </tr>\n",
              "    <tr>\n",
              "      <th>1</th>\n",
              "      <td>positive</td>\n",
              "      <td>@VirginAmerica plus you've added commercials t...</td>\n",
              "      <td>72</td>\n",
              "      <td>9</td>\n",
              "      <td>2</td>\n",
              "      <td>plus you ve added commercials to the experienc...</td>\n",
              "      <td>0.0</td>\n",
              "      <td>0.000</td>\n",
              "      <td>1.000</td>\n",
              "      <td>0.0000</td>\n",
              "      <td>neutral</td>\n",
              "    </tr>\n",
              "    <tr>\n",
              "      <th>2</th>\n",
              "      <td>neutral</td>\n",
              "      <td>@VirginAmerica I didn't today... Must mean I n...</td>\n",
              "      <td>71</td>\n",
              "      <td>12</td>\n",
              "      <td>1</td>\n",
              "      <td>i didn t today must mean i need to take anothe...</td>\n",
              "      <td>0.0</td>\n",
              "      <td>0.000</td>\n",
              "      <td>1.000</td>\n",
              "      <td>0.0000</td>\n",
              "      <td>neutral</td>\n",
              "    </tr>\n",
              "    <tr>\n",
              "      <th>3</th>\n",
              "      <td>negative</td>\n",
              "      <td>@VirginAmerica it's really aggressive to blast...</td>\n",
              "      <td>126</td>\n",
              "      <td>17</td>\n",
              "      <td>0</td>\n",
              "      <td>it s really aggressive to blast obnoxious ente...</td>\n",
              "      <td>0.0</td>\n",
              "      <td>0.246</td>\n",
              "      <td>0.754</td>\n",
              "      <td>-0.5984</td>\n",
              "      <td>negative</td>\n",
              "    </tr>\n",
              "    <tr>\n",
              "      <th>4</th>\n",
              "      <td>negative</td>\n",
              "      <td>@VirginAmerica and it's a really big bad thing...</td>\n",
              "      <td>55</td>\n",
              "      <td>10</td>\n",
              "      <td>0</td>\n",
              "      <td>and it s a really big bad thing about it</td>\n",
              "      <td>0.0</td>\n",
              "      <td>0.321</td>\n",
              "      <td>0.679</td>\n",
              "      <td>-0.5829</td>\n",
              "      <td>negative</td>\n",
              "    </tr>\n",
              "  </tbody>\n",
              "</table>\n",
              "</div>"
            ],
            "text/plain": [
              "  airline_sentiment  ... Target Value based on Polarity Scores\n",
              "0           neutral  ...                               neutral\n",
              "1          positive  ...                               neutral\n",
              "2           neutral  ...                               neutral\n",
              "3          negative  ...                              negative\n",
              "4          negative  ...                              negative\n",
              "\n",
              "[5 rows x 11 columns]"
            ]
          },
          "metadata": {
            "tags": []
          },
          "execution_count": 72
        }
      ]
    },
    {
      "cell_type": "markdown",
      "metadata": {
        "id": "XzyzWbuE1YHL",
        "colab_type": "text"
      },
      "source": [
        "Importing the fast.ai libraries"
      ]
    },
    {
      "cell_type": "code",
      "metadata": {
        "id": "OH7b34dt1T3v",
        "colab_type": "code",
        "colab": {}
      },
      "source": [
        "from fastai import *\n",
        "from fastai.text import *"
      ],
      "execution_count": null,
      "outputs": []
    },
    {
      "cell_type": "markdown",
      "metadata": {
        "id": "1KV3MSyNaxhc",
        "colab_type": "text"
      },
      "source": [
        "Since we need only two columns, extracting only those specific columns"
      ]
    },
    {
      "cell_type": "code",
      "metadata": {
        "id": "eRTTejgH1tb9",
        "colab_type": "code",
        "colab": {
          "base_uri": "https://localhost:8080/",
          "height": 194
        },
        "outputId": "2facfa45-b703-4ad2-e538-ffa43a396651"
      },
      "source": [
        "dataset_ulmfit = pd.DataFrame(dataset[['airline_sentiment', 'updated_text']])\n",
        "dataset_ulmfit.head()"
      ],
      "execution_count": null,
      "outputs": [
        {
          "output_type": "execute_result",
          "data": {
            "text/html": [
              "<div>\n",
              "<style scoped>\n",
              "    .dataframe tbody tr th:only-of-type {\n",
              "        vertical-align: middle;\n",
              "    }\n",
              "\n",
              "    .dataframe tbody tr th {\n",
              "        vertical-align: top;\n",
              "    }\n",
              "\n",
              "    .dataframe thead th {\n",
              "        text-align: right;\n",
              "    }\n",
              "</style>\n",
              "<table border=\"1\" class=\"dataframe\">\n",
              "  <thead>\n",
              "    <tr style=\"text-align: right;\">\n",
              "      <th></th>\n",
              "      <th>airline_sentiment</th>\n",
              "      <th>updated_text</th>\n",
              "    </tr>\n",
              "  </thead>\n",
              "  <tbody>\n",
              "    <tr>\n",
              "      <th>0</th>\n",
              "      <td>neutral</td>\n",
              "      <td>what said</td>\n",
              "    </tr>\n",
              "    <tr>\n",
              "      <th>1</th>\n",
              "      <td>positive</td>\n",
              "      <td>plus you ve added commercials to the experienc...</td>\n",
              "    </tr>\n",
              "    <tr>\n",
              "      <th>2</th>\n",
              "      <td>neutral</td>\n",
              "      <td>i didn t today must mean i need to take anothe...</td>\n",
              "    </tr>\n",
              "    <tr>\n",
              "      <th>3</th>\n",
              "      <td>negative</td>\n",
              "      <td>it s really aggressive to blast obnoxious ente...</td>\n",
              "    </tr>\n",
              "    <tr>\n",
              "      <th>4</th>\n",
              "      <td>negative</td>\n",
              "      <td>and it s a really big bad thing about it</td>\n",
              "    </tr>\n",
              "  </tbody>\n",
              "</table>\n",
              "</div>"
            ],
            "text/plain": [
              "  airline_sentiment                                       updated_text\n",
              "0           neutral                                          what said\n",
              "1          positive  plus you ve added commercials to the experienc...\n",
              "2           neutral  i didn t today must mean i need to take anothe...\n",
              "3          negative  it s really aggressive to blast obnoxious ente...\n",
              "4          negative           and it s a really big bad thing about it"
            ]
          },
          "metadata": {
            "tags": []
          },
          "execution_count": 74
        }
      ]
    },
    {
      "cell_type": "markdown",
      "metadata": {
        "id": "oTdbjCX5tVo_",
        "colab_type": "text"
      },
      "source": [
        "Mentioning the path where the dataset is present."
      ]
    },
    {
      "cell_type": "code",
      "metadata": {
        "id": "QL5WYfR8LFen",
        "colab_type": "code",
        "colab": {
          "base_uri": "https://localhost:8080/",
          "height": 36
        },
        "outputId": "39d33fc1-8e5b-4413-8a95-818e28d6068b"
      },
      "source": [
        "path = \"/content\"\n",
        "path"
      ],
      "execution_count": null,
      "outputs": [
        {
          "output_type": "execute_result",
          "data": {
            "application/vnd.google.colaboratory.intrinsic": {
              "type": "string"
            },
            "text/plain": [
              "'/content'"
            ]
          },
          "metadata": {
            "tags": []
          },
          "execution_count": 75
        }
      ]
    },
    {
      "cell_type": "markdown",
      "metadata": {
        "id": "4IeWd0HhwcNu",
        "colab_type": "text"
      },
      "source": [
        "\n",
        "\n",
        "> **Two Major Steps**\n",
        "1. To prepare the data for the language model\n",
        "2. To prepare the data for the classification model\n",
        "\n"
      ]
    },
    {
      "cell_type": "markdown",
      "metadata": {
        "id": "S5ew8bWntgry",
        "colab_type": "text"
      },
      "source": [
        "Splitting the dataset into training and validation set."
      ]
    },
    {
      "cell_type": "code",
      "metadata": {
        "id": "APGsY-dcSv0q",
        "colab_type": "code",
        "colab": {}
      },
      "source": [
        "from sklearn.model_selection import train_test_split\n",
        "train, valid = train_test_split(dataset_ulmfit, test_size=0.1)"
      ],
      "execution_count": null,
      "outputs": []
    },
    {
      "cell_type": "markdown",
      "metadata": {
        "id": "T8Hb6qAfurUC",
        "colab_type": "text"
      },
      "source": [
        "Now, creating the Data Bunch for the language modelling. In the below step all the text in the dataset are concatenated and the labels are ignored. The target is the next word in the dataset."
      ]
    },
    {
      "cell_type": "markdown",
      "metadata": {
        "id": "bN7L7HBlCTAC",
        "colab_type": "text"
      },
      "source": [
        "***Preparing the data for the Language Model***"
      ]
    },
    {
      "cell_type": "code",
      "metadata": {
        "id": "vwsCyK45Szi2",
        "colab_type": "code",
        "colab": {
          "base_uri": "https://localhost:8080/",
          "height": 278
        },
        "outputId": "f0ac1007-1df6-4e32-e262-1f3931ef13b8"
      },
      "source": [
        "data_lm = TextLMDataBunch.from_df(path, train_df = train, valid_df = valid)\n",
        "data_lm.show_batch()"
      ],
      "execution_count": null,
      "outputs": [
        {
          "output_type": "display_data",
          "data": {
            "text/html": [
              ""
            ],
            "text/plain": [
              "<IPython.core.display.HTML object>"
            ]
          },
          "metadata": {
            "tags": []
          }
        },
        {
          "output_type": "display_data",
          "data": {
            "text/html": [
              ""
            ],
            "text/plain": [
              "<IPython.core.display.HTML object>"
            ]
          },
          "metadata": {
            "tags": []
          }
        },
        {
          "output_type": "display_data",
          "data": {
            "text/html": [
              "<table border=\"1\" class=\"dataframe\">\n",
              "  <thead>\n",
              "    <tr style=\"text-align: right;\">\n",
              "      <th>idx</th>\n",
              "      <th>text</th>\n",
              "    </tr>\n",
              "  </thead>\n",
              "  <tbody>\n",
              "    <tr>\n",
              "      <td>0</td>\n",
              "      <td>xxbos cancelled flightled the last part of a ticket and am confused from the email i received whether value remains is there someone i can ask xxbos a phone call or email when you cancelled flight a flight would be lovely xxbos never had an airline refuse to help sit parents with tiny kids but this guy is willing to do it jetblue xxbos awesome sending now xxbos xxunk to</td>\n",
              "    </tr>\n",
              "    <tr>\n",
              "      <td>1</td>\n",
              "      <td>xxbos oh i ll be sharing alright especially about sleeping in this shitty airport and getting hr of sleep all night because ua xxbos thanks that would be awesome xxbos can t even get on hold to wait to speak to someone awesome xxbos yup mco xxbos boeing star alliance short finals l on an amazing xxunk morning avgeek xxbos what s the status of flight out of sju xxbos</td>\n",
              "    </tr>\n",
              "    <tr>\n",
              "      <td>2</td>\n",
              "      <td>but please stop overheating your planes second flight in a row that feels like a xxunk xxbos love xxunk dancing can t wait for you to fly into puerto vallarta and kick united ass xxbos it s done if you do something to make up for it i ll tweet that too xxbos worst customer service ever you cancelled flightled my connecting flight to ny hours ago amp didn t</td>\n",
              "    </tr>\n",
              "    <tr>\n",
              "      <td>3</td>\n",
              "      <td>they are also frustrated wouldn t be so bad but airport is closed xxbos been on the phone for minutes said it would be any advice xxbos so sorry i ended up on us air flight thank you though for getting back to me xxbos thanks for the info have a good day xxbos understood and so does us airways getting through tsa is the problem xxbos i put a</td>\n",
              "    </tr>\n",
              "    <tr>\n",
              "      <td>4</td>\n",
              "      <td>on after original flight to charlotte was cancelled flightled now is on hr delay xxbos back for the expensive holiday he worked all year to pay for that you ruined we want compensation amp his original case back xxbos my mom s flight tomorrow cancelled flighted w no notice phone system said callback in hours and it s been i need to go to bed xxbos redeemed themselves flight out</td>\n",
              "    </tr>\n",
              "  </tbody>\n",
              "</table>"
            ],
            "text/plain": [
              "<IPython.core.display.HTML object>"
            ]
          },
          "metadata": {
            "tags": []
          }
        }
      ]
    },
    {
      "cell_type": "markdown",
      "metadata": {
        "id": "pHin6tkYCrQN",
        "colab_type": "text"
      },
      "source": [
        "***Fine-tuning the pretrained model to make predictions. In this case, the predictions will be to predict the next word in the sentence.***"
      ]
    },
    {
      "cell_type": "markdown",
      "metadata": {
        "id": "xYOX4JGbDCWZ",
        "colab_type": "text"
      },
      "source": [
        "\"AWD_LSTM\" - Wiki103"
      ]
    },
    {
      "cell_type": "code",
      "metadata": {
        "id": "SrqbhhUMS2HQ",
        "colab_type": "code",
        "colab": {}
      },
      "source": [
        "learn = language_model_learner(data_lm, AWD_LSTM, drop_mult=0.5)\n",
        "learn.freeze()"
      ],
      "execution_count": null,
      "outputs": []
    },
    {
      "cell_type": "markdown",
      "metadata": {
        "id": "JHNhchrGDVGD",
        "colab_type": "text"
      },
      "source": [
        "To find the optimal lr value, computing the graph below."
      ]
    },
    {
      "cell_type": "code",
      "metadata": {
        "id": "ohcD7n9NS3ae",
        "colab_type": "code",
        "colab": {
          "base_uri": "https://localhost:8080/",
          "height": 140
        },
        "outputId": "912b6904-b78e-468d-d04a-0add1ba5f9d1"
      },
      "source": [
        "learn.lr_find()"
      ],
      "execution_count": null,
      "outputs": [
        {
          "output_type": "display_data",
          "data": {
            "text/html": [
              "\n",
              "    <div>\n",
              "        <style>\n",
              "            /* Turns off some styling */\n",
              "            progress {\n",
              "                /* gets rid of default border in Firefox and Opera. */\n",
              "                border: none;\n",
              "                /* Needs to be in here for Safari polyfill so background images work as expected. */\n",
              "                background-size: auto;\n",
              "            }\n",
              "            .progress-bar-interrupted, .progress-bar-interrupted::-webkit-progress-bar {\n",
              "                background: #F44336;\n",
              "            }\n",
              "        </style>\n",
              "      <progress value='1' class='' max='2' style='width:300px; height:20px; vertical-align: middle;'></progress>\n",
              "      50.00% [1/2 06:55<06:55]\n",
              "    </div>\n",
              "    \n",
              "<table border=\"1\" class=\"dataframe\">\n",
              "  <thead>\n",
              "    <tr style=\"text-align: left;\">\n",
              "      <th>epoch</th>\n",
              "      <th>train_loss</th>\n",
              "      <th>valid_loss</th>\n",
              "      <th>accuracy</th>\n",
              "      <th>time</th>\n",
              "    </tr>\n",
              "  </thead>\n",
              "  <tbody>\n",
              "    <tr>\n",
              "      <td>0</td>\n",
              "      <td>6.864831</td>\n",
              "      <td>#na#</td>\n",
              "      <td>06:55</td>\n",
              "    </tr>\n",
              "  </tbody>\n",
              "</table><p>\n",
              "\n",
              "    <div>\n",
              "        <style>\n",
              "            /* Turns off some styling */\n",
              "            progress {\n",
              "                /* gets rid of default border in Firefox and Opera. */\n",
              "                border: none;\n",
              "                /* Needs to be in here for Safari polyfill so background images work as expected. */\n",
              "                background-size: auto;\n",
              "            }\n",
              "            .progress-bar-interrupted, .progress-bar-interrupted::-webkit-progress-bar {\n",
              "                background: #F44336;\n",
              "            }\n",
              "        </style>\n",
              "      <progress value='47' class='' max='52' style='width:300px; height:20px; vertical-align: middle;'></progress>\n",
              "      90.38% [47/52 07:30<00:47 10.5285]\n",
              "    </div>\n",
              "    "
            ],
            "text/plain": [
              "<IPython.core.display.HTML object>"
            ]
          },
          "metadata": {
            "tags": []
          }
        },
        {
          "output_type": "stream",
          "text": [
            "LR Finder is complete, type {learner_name}.recorder.plot() to see the graph.\n"
          ],
          "name": "stdout"
        }
      ]
    },
    {
      "cell_type": "code",
      "metadata": {
        "id": "dmnMzYNtS4-C",
        "colab_type": "code",
        "colab": {
          "base_uri": "https://localhost:8080/",
          "height": 279
        },
        "outputId": "b4df1b38-e904-4611-bf55-d1ba1022ba2f"
      },
      "source": [
        "learn.recorder.plot()"
      ],
      "execution_count": null,
      "outputs": [
        {
          "output_type": "display_data",
          "data": {
            "image/png": "[encoded data removed]",
            "text/plain": [
              "<Figure size 432x288 with 1 Axes>"
            ]
          },
          "metadata": {
            "tags": [],
            "needs_background": "light"
          }
        }
      ]
    },
    {
      "cell_type": "markdown",
      "metadata": {
        "id": "5ZeQz2JcDbzt",
        "colab_type": "text"
      },
      "source": [
        "From the graph above, we could see that the best value for lr will be \"1e-02\". This is the point for the proper learning rate."
      ]
    },
    {
      "cell_type": "code",
      "metadata": {
        "id": "B3UF1qCFTADD",
        "colab_type": "code",
        "colab": {
          "base_uri": "https://localhost:8080/",
          "height": 76
        },
        "outputId": "3f1ec785-434d-43d2-83f2-38b3a1031a9f"
      },
      "source": [
        "moms = (0.8,0.7)\n",
        "wd = 0.1\n",
        "lr = 1.0E-02\n",
        "learn.fit_one_cycle(1, lr, moms=moms, wd=wd)"
      ],
      "execution_count": null,
      "outputs": [
        {
          "output_type": "display_data",
          "data": {
            "text/html": [
              "<table border=\"1\" class=\"dataframe\">\n",
              "  <thead>\n",
              "    <tr style=\"text-align: left;\">\n",
              "      <th>epoch</th>\n",
              "      <th>train_loss</th>\n",
              "      <th>valid_loss</th>\n",
              "      <th>accuracy</th>\n",
              "      <th>time</th>\n",
              "    </tr>\n",
              "  </thead>\n",
              "  <tbody>\n",
              "    <tr>\n",
              "      <td>0</td>\n",
              "      <td>5.467003</td>\n",
              "      <td>4.848189</td>\n",
              "      <td>0.179055</td>\n",
              "      <td>07:15</td>\n",
              "    </tr>\n",
              "  </tbody>\n",
              "</table>"
            ],
            "text/plain": [
              "<IPython.core.display.HTML object>"
            ]
          },
          "metadata": {
            "tags": []
          }
        }
      ]
    },
    {
      "cell_type": "markdown",
      "metadata": {
        "id": "nmfPqD3TEEL7",
        "colab_type": "text"
      },
      "source": [
        "One cycle and cyclic momentum allows the model to be trained on higher learning rates and converge faster. The one cycle policy provides some form of regularisation."
      ]
    },
    {
      "cell_type": "code",
      "metadata": {
        "id": "vhEOq12QTDAU",
        "colab_type": "code",
        "colab": {}
      },
      "source": [
        "learn.unfreeze()"
      ],
      "execution_count": null,
      "outputs": []
    },
    {
      "cell_type": "code",
      "metadata": {
        "id": "MUq-hRI2Tn5b",
        "colab_type": "code",
        "colab": {
          "base_uri": "https://localhost:8080/",
          "height": 135
        },
        "outputId": "8af92ee1-2d01-41a4-9b25-e5ebb6179572"
      },
      "source": [
        "learn.fit_one_cycle(3, lr, moms=moms, wd=wd)"
      ],
      "execution_count": null,
      "outputs": [
        {
          "output_type": "display_data",
          "data": {
            "text/html": [
              "<table border=\"1\" class=\"dataframe\">\n",
              "  <thead>\n",
              "    <tr style=\"text-align: left;\">\n",
              "      <th>epoch</th>\n",
              "      <th>train_loss</th>\n",
              "      <th>valid_loss</th>\n",
              "      <th>accuracy</th>\n",
              "      <th>time</th>\n",
              "    </tr>\n",
              "  </thead>\n",
              "  <tbody>\n",
              "    <tr>\n",
              "      <td>0</td>\n",
              "      <td>4.829470</td>\n",
              "      <td>4.886715</td>\n",
              "      <td>0.173400</td>\n",
              "      <td>11:05</td>\n",
              "    </tr>\n",
              "    <tr>\n",
              "      <td>1</td>\n",
              "      <td>4.491278</td>\n",
              "      <td>4.359850</td>\n",
              "      <td>0.230804</td>\n",
              "      <td>11:13</td>\n",
              "    </tr>\n",
              "    <tr>\n",
              "      <td>2</td>\n",
              "      <td>3.943703</td>\n",
              "      <td>4.352107</td>\n",
              "      <td>0.239695</td>\n",
              "      <td>11:25</td>\n",
              "    </tr>\n",
              "  </tbody>\n",
              "</table>"
            ],
            "text/plain": [
              "<IPython.core.display.HTML object>"
            ]
          },
          "metadata": {
            "tags": []
          }
        }
      ]
    },
    {
      "cell_type": "code",
      "metadata": {
        "id": "18PoqoEGTFv0",
        "colab_type": "code",
        "colab": {
          "base_uri": "https://localhost:8080/",
          "height": 53
        },
        "outputId": "bd743a5a-f11e-44ee-f7fd-6184a7f2e2b7"
      },
      "source": [
        "learn.predict('This airline is frustrating', n_words=30)"
      ],
      "execution_count": null,
      "outputs": [
        {
          "output_type": "execute_result",
          "data": {
            "application/vnd.google.colaboratory.intrinsic": {
              "type": "string"
            },
            "text/plain": [
              "'This airline is frustrating rights but do nt you should anticipate xxbos i shall say to my dad with the consolation airfare came thanks xxbos i have been on hold for minutes trying to'"
            ]
          },
          "metadata": {
            "tags": []
          },
          "execution_count": 84
        }
      ]
    },
    {
      "cell_type": "markdown",
      "metadata": {
        "id": "XpFnicFdc6WA",
        "colab_type": "text"
      },
      "source": [
        "If you can check the cell above, the model predicted the next 30 words in the text \"This airline is frustrating\". Good!\n",
        "\n",
        "Now let's prepare the data for the classification model to classify the sentiments."
      ]
    },
    {
      "cell_type": "markdown",
      "metadata": {
        "id": "aWrHbAbHE7QM",
        "colab_type": "text"
      },
      "source": [
        "Now saving this encoder, later to be used for the classifier"
      ]
    },
    {
      "cell_type": "code",
      "metadata": {
        "id": "k5OHq0VYTHEo",
        "colab_type": "code",
        "colab": {}
      },
      "source": [
        "learn.save_encoder('1_enc')"
      ],
      "execution_count": null,
      "outputs": []
    },
    {
      "cell_type": "markdown",
      "metadata": {
        "id": "qIXN5RiIFFB2",
        "colab_type": "text"
      },
      "source": [
        "Splitting the dataset into train, test and validation set."
      ]
    },
    {
      "cell_type": "code",
      "metadata": {
        "id": "OVmnDGi5TJEK",
        "colab_type": "code",
        "colab": {}
      },
      "source": [
        "train_valid, test = train_test_split(dataset_ulmfit, test_size=0.1)\n",
        "train, valid = train_test_split(train_valid, test_size=0.1)"
      ],
      "execution_count": null,
      "outputs": []
    },
    {
      "cell_type": "markdown",
      "metadata": {
        "id": "_v9WiBrMCjRz",
        "colab_type": "text"
      },
      "source": [
        "***Preparing the data for the Classification Model***"
      ]
    },
    {
      "cell_type": "code",
      "metadata": {
        "id": "ATNbjMXoTKop",
        "colab_type": "code",
        "colab": {
          "base_uri": "https://localhost:8080/",
          "height": 17
        },
        "outputId": "b54dbc19-1f2e-4e37-d917-ca3212a4dea5"
      },
      "source": [
        "# Classifier model data\n",
        "data_classifier = TextClasDataBunch.from_df(path,train_df=train, valid_df = valid,test_df = test, vocab=data_lm.train_ds.vocab, \n",
        "                                      text_cols='updated_text', label_cols='airline_sentiment', bs=48)"
      ],
      "execution_count": null,
      "outputs": [
        {
          "output_type": "display_data",
          "data": {
            "text/html": [
              ""
            ],
            "text/plain": [
              "<IPython.core.display.HTML object>"
            ]
          },
          "metadata": {
            "tags": []
          }
        },
        {
          "output_type": "display_data",
          "data": {
            "text/html": [
              ""
            ],
            "text/plain": [
              "<IPython.core.display.HTML object>"
            ]
          },
          "metadata": {
            "tags": []
          }
        },
        {
          "output_type": "display_data",
          "data": {
            "text/html": [
              ""
            ],
            "text/plain": [
              "<IPython.core.display.HTML object>"
            ]
          },
          "metadata": {
            "tags": []
          }
        }
      ]
    },
    {
      "cell_type": "code",
      "metadata": {
        "id": "EPLaN0FKTL4B",
        "colab_type": "code",
        "colab": {
          "base_uri": "https://localhost:8080/",
          "height": 194
        },
        "outputId": "a44f107f-b624-4c31-ad55-2a76d3c1be25"
      },
      "source": [
        "data_classifier.show_batch()"
      ],
      "execution_count": null,
      "outputs": [
        {
          "output_type": "display_data",
          "data": {
            "text/html": [
              "<table border=\"1\" class=\"dataframe\">\n",
              "  <thead>\n",
              "    <tr style=\"text-align: right;\">\n",
              "      <th>text</th>\n",
              "      <th>target</th>\n",
              "    </tr>\n",
              "  </thead>\n",
              "  <tbody>\n",
              "    <tr>\n",
              "      <td>xxbos i don t have a xxunk number i can t sent my mail to you via dm you re not following me i follow you now so you can sent me a dm</td>\n",
              "      <td>neutral</td>\n",
              "    </tr>\n",
              "    <tr>\n",
              "      <td>xxbos i don t like being lied to no bad weather in dc md va i ve been stuck in ca all day and should ve been home by now you owe me</td>\n",
              "      <td>negative</td>\n",
              "    </tr>\n",
              "    <tr>\n",
              "      <td>xxbos my hubby has a hr layover in dfw fm the cxl d flt pls help get him home sooner if you can any room on s by bwi or phl today</td>\n",
              "      <td>neutral</td>\n",
              "    </tr>\n",
              "    <tr>\n",
              "      <td>xxbos i booked lh via ua however at gate they rebooked me to a late flightr lh flight now that flight did nt earn pqd for me how do i get it</td>\n",
              "      <td>negative</td>\n",
              "    </tr>\n",
              "    <tr>\n",
              "      <td>xxbos i sure did i had to drive a total of hours to get my own bag i d like to explain that debacle but no one wants to talk to me</td>\n",
              "      <td>negative</td>\n",
              "    </tr>\n",
              "  </tbody>\n",
              "</table>"
            ],
            "text/plain": [
              "<IPython.core.display.HTML object>"
            ]
          },
          "metadata": {
            "tags": []
          }
        }
      ]
    },
    {
      "cell_type": "markdown",
      "metadata": {
        "id": "QkszcbhHFbxV",
        "colab_type": "text"
      },
      "source": [
        "***Building a classifier in the fine-tuned encoder we created***"
      ]
    },
    {
      "cell_type": "code",
      "metadata": {
        "id": "Przfgz0pTNc7",
        "colab_type": "code",
        "colab": {}
      },
      "source": [
        "learn = text_classifier_learner(data_classifier, AWD_LSTM, drop_mult=0.5)\n",
        "learn.load_encoder('1_enc')\n",
        "learn.freeze()"
      ],
      "execution_count": null,
      "outputs": []
    },
    {
      "cell_type": "markdown",
      "metadata": {
        "id": "oSZInNBVFv0C",
        "colab_type": "text"
      },
      "source": [
        "To find the optimal lr value"
      ]
    },
    {
      "cell_type": "code",
      "metadata": {
        "id": "tQU61UF7TO1J",
        "colab_type": "code",
        "colab": {
          "base_uri": "https://localhost:8080/",
          "height": 373
        },
        "outputId": "48c8892f-cc69-4980-a513-dbe233586958"
      },
      "source": [
        "learn.lr_find()\n",
        "learn.recorder.plot()"
      ],
      "execution_count": null,
      "outputs": [
        {
          "output_type": "display_data",
          "data": {
            "text/html": [
              "\n",
              "    <div>\n",
              "        <style>\n",
              "            /* Turns off some styling */\n",
              "            progress {\n",
              "                /* gets rid of default border in Firefox and Opera. */\n",
              "                border: none;\n",
              "                /* Needs to be in here for Safari polyfill so background images work as expected. */\n",
              "                background-size: auto;\n",
              "            }\n",
              "            .progress-bar-interrupted, .progress-bar-interrupted::-webkit-progress-bar {\n",
              "                background: #F44336;\n",
              "            }\n",
              "        </style>\n",
              "      <progress value='0' class='' max='1' style='width:300px; height:20px; vertical-align: middle;'></progress>\n",
              "      0.00% [0/1 00:00<00:00]\n",
              "    </div>\n",
              "    \n",
              "<table border=\"1\" class=\"dataframe\">\n",
              "  <thead>\n",
              "    <tr style=\"text-align: left;\">\n",
              "      <th>epoch</th>\n",
              "      <th>train_loss</th>\n",
              "      <th>valid_loss</th>\n",
              "      <th>accuracy</th>\n",
              "      <th>time</th>\n",
              "    </tr>\n",
              "  </thead>\n",
              "  <tbody>\n",
              "  </tbody>\n",
              "</table><p>\n",
              "\n",
              "    <div>\n",
              "        <style>\n",
              "            /* Turns off some styling */\n",
              "            progress {\n",
              "                /* gets rid of default border in Firefox and Opera. */\n",
              "                border: none;\n",
              "                /* Needs to be in here for Safari polyfill so background images work as expected. */\n",
              "                background-size: auto;\n",
              "            }\n",
              "            .progress-bar-interrupted, .progress-bar-interrupted::-webkit-progress-bar {\n",
              "                background: #F44336;\n",
              "            }\n",
              "        </style>\n",
              "      <progress value='95' class='' max='247' style='width:300px; height:20px; vertical-align: middle;'></progress>\n",
              "      38.46% [95/247 01:21<02:10 3.8800]\n",
              "    </div>\n",
              "    "
            ],
            "text/plain": [
              "<IPython.core.display.HTML object>"
            ]
          },
          "metadata": {
            "tags": []
          }
        },
        {
          "output_type": "stream",
          "text": [
            "LR Finder is complete, type {learner_name}.recorder.plot() to see the graph.\n"
          ],
          "name": "stdout"
        },
        {
          "output_type": "display_data",
          "data": {
            "image/png": "[encoded data removed]",
            "text/plain": [
              "<Figure size 432x288 with 1 Axes>"
            ]
          },
          "metadata": {
            "tags": [],
            "needs_background": "light"
          }
        }
      ]
    },
    {
      "cell_type": "markdown",
      "metadata": {
        "id": "k9V8uhYHF14K",
        "colab_type": "text"
      },
      "source": [
        "Best lr value = 1e-03"
      ]
    },
    {
      "cell_type": "code",
      "metadata": {
        "colab_type": "code",
        "id": "08fojN0yvywK",
        "colab": {
          "base_uri": "https://localhost:8080/",
          "height": 76
        },
        "outputId": "cd6d570d-b0c4-4674-dbd4-8f1d9dab66b9"
      },
      "source": [
        "lr = 1.0E-03\n",
        "learn.fit_one_cycle(1, lr, moms=moms, wd=wd)"
      ],
      "execution_count": null,
      "outputs": [
        {
          "output_type": "display_data",
          "data": {
            "text/html": [
              "<table border=\"1\" class=\"dataframe\">\n",
              "  <thead>\n",
              "    <tr style=\"text-align: left;\">\n",
              "      <th>epoch</th>\n",
              "      <th>train_loss</th>\n",
              "      <th>valid_loss</th>\n",
              "      <th>accuracy</th>\n",
              "      <th>time</th>\n",
              "    </tr>\n",
              "  </thead>\n",
              "  <tbody>\n",
              "    <tr>\n",
              "      <td>0</td>\n",
              "      <td>0.745155</td>\n",
              "      <td>0.566392</td>\n",
              "      <td>0.804249</td>\n",
              "      <td>04:00</td>\n",
              "    </tr>\n",
              "  </tbody>\n",
              "</table>"
            ],
            "text/plain": [
              "<IPython.core.display.HTML object>"
            ]
          },
          "metadata": {
            "tags": []
          }
        }
      ]
    },
    {
      "cell_type": "markdown",
      "metadata": {
        "id": "j1t9GPQhF7zo",
        "colab_type": "text"
      },
      "source": [
        "That was good increase in the accuracy. Look at the training loss and the validation loss. The validation loss is better than the training loss. That's a good point to note."
      ]
    },
    {
      "cell_type": "markdown",
      "metadata": {
        "id": "EQEUwZlVGUi8",
        "colab_type": "text"
      },
      "source": [
        "Let try with more epocs and check the results! Let's do one epoch at a time for the classifier training\n"
      ]
    },
    {
      "cell_type": "code",
      "metadata": {
        "colab_type": "code",
        "id": "JFGCyL1QwBmO",
        "colab": {
          "base_uri": "https://localhost:8080/",
          "height": 76
        },
        "outputId": "6eb1dee9-f1d8-4ee8-8a44-5b82fd305003"
      },
      "source": [
        "learn.freeze_to(-2)\n",
        "lr /= 2\n",
        "learn.fit_one_cycle(1, slice(lr/(2.6**4), lr), moms=moms, wd=wd)"
      ],
      "execution_count": null,
      "outputs": [
        {
          "output_type": "display_data",
          "data": {
            "text/html": [
              "<table border=\"1\" class=\"dataframe\">\n",
              "  <thead>\n",
              "    <tr style=\"text-align: left;\">\n",
              "      <th>epoch</th>\n",
              "      <th>train_loss</th>\n",
              "      <th>valid_loss</th>\n",
              "      <th>accuracy</th>\n",
              "      <th>time</th>\n",
              "    </tr>\n",
              "  </thead>\n",
              "  <tbody>\n",
              "    <tr>\n",
              "      <td>0</td>\n",
              "      <td>0.687063</td>\n",
              "      <td>0.507331</td>\n",
              "      <td>0.817147</td>\n",
              "      <td>04:46</td>\n",
              "    </tr>\n",
              "  </tbody>\n",
              "</table>"
            ],
            "text/plain": [
              "<IPython.core.display.HTML object>"
            ]
          },
          "metadata": {
            "tags": []
          }
        }
      ]
    },
    {
      "cell_type": "code",
      "metadata": {
        "colab_type": "code",
        "id": "TRgGyKFhwGFj",
        "colab": {
          "base_uri": "https://localhost:8080/",
          "height": 76
        },
        "outputId": "b93b56d6-0578-41c2-81c7-26cb4d6ddb59"
      },
      "source": [
        "learn.freeze_to(-3)\n",
        "lr /= 2\n",
        "learn.fit_one_cycle(1, slice(lr/(2.6**4), lr), moms=moms, wd=wd)"
      ],
      "execution_count": null,
      "outputs": [
        {
          "output_type": "display_data",
          "data": {
            "text/html": [
              "<table border=\"1\" class=\"dataframe\">\n",
              "  <thead>\n",
              "    <tr style=\"text-align: left;\">\n",
              "      <th>epoch</th>\n",
              "      <th>train_loss</th>\n",
              "      <th>valid_loss</th>\n",
              "      <th>accuracy</th>\n",
              "      <th>time</th>\n",
              "    </tr>\n",
              "  </thead>\n",
              "  <tbody>\n",
              "    <tr>\n",
              "      <td>0</td>\n",
              "      <td>0.624351</td>\n",
              "      <td>0.533797</td>\n",
              "      <td>0.816388</td>\n",
              "      <td>07:46</td>\n",
              "    </tr>\n",
              "  </tbody>\n",
              "</table>"
            ],
            "text/plain": [
              "<IPython.core.display.HTML object>"
            ]
          },
          "metadata": {
            "tags": []
          }
        }
      ]
    },
    {
      "cell_type": "code",
      "metadata": {
        "colab_type": "code",
        "id": "UZoN-L_QwNRl",
        "colab": {
          "base_uri": "https://localhost:8080/",
          "height": 106
        },
        "outputId": "eb96eb61-6eac-4451-80fa-9f0ca3305f17"
      },
      "source": [
        "learn.unfreeze()\n",
        "lr /= 5\n",
        "learn.fit_one_cycle(2, slice(lr/(2.6**4), lr), moms=moms, wd=wd)"
      ],
      "execution_count": null,
      "outputs": [
        {
          "output_type": "display_data",
          "data": {
            "text/html": [
              "<table border=\"1\" class=\"dataframe\">\n",
              "  <thead>\n",
              "    <tr style=\"text-align: left;\">\n",
              "      <th>epoch</th>\n",
              "      <th>train_loss</th>\n",
              "      <th>valid_loss</th>\n",
              "      <th>accuracy</th>\n",
              "      <th>time</th>\n",
              "    </tr>\n",
              "  </thead>\n",
              "  <tbody>\n",
              "    <tr>\n",
              "      <td>0</td>\n",
              "      <td>0.614632</td>\n",
              "      <td>0.509154</td>\n",
              "      <td>0.817906</td>\n",
              "      <td>12:35</td>\n",
              "    </tr>\n",
              "    <tr>\n",
              "      <td>1</td>\n",
              "      <td>0.614031</td>\n",
              "      <td>0.493305</td>\n",
              "      <td>0.828528</td>\n",
              "      <td>11:04</td>\n",
              "    </tr>\n",
              "  </tbody>\n",
              "</table>"
            ],
            "text/plain": [
              "<IPython.core.display.HTML object>"
            ]
          },
          "metadata": {
            "tags": []
          }
        }
      ]
    },
    {
      "cell_type": "markdown",
      "metadata": {
        "id": "RKdltBVIGmia",
        "colab_type": "text"
      },
      "source": [
        "***That's was a pretty good accuracy. Now let's try to analyse the sentiment of a random text***"
      ]
    },
    {
      "cell_type": "markdown",
      "metadata": {
        "colab_type": "text",
        "id": "prxjoZyIG1rX"
      },
      "source": [
        "\n",
        "> **Neutral** - 1\n",
        "\n",
        "> **Positive** - 2\n",
        "\n",
        "> **Negative** - 0\n"
      ]
    },
    {
      "cell_type": "code",
      "metadata": {
        "id": "AkNPhnrATc9O",
        "colab_type": "code",
        "colab": {
          "base_uri": "https://localhost:8080/",
          "height": 35
        },
        "outputId": "80956659-d324-4e0c-b0f2-2e9886d789ee"
      },
      "source": [
        "learn.predict('This wrost airline I have ever travelled')"
      ],
      "execution_count": null,
      "outputs": [
        {
          "output_type": "execute_result",
          "data": {
            "text/plain": [
              "(Category tensor(0), tensor(0), tensor([0.7012, 0.1897, 0.1090]))"
            ]
          },
          "metadata": {
            "tags": []
          },
          "execution_count": 95
        }
      ]
    },
    {
      "cell_type": "markdown",
      "metadata": {
        "id": "tCXEWLi9uAOU",
        "colab_type": "text"
      },
      "source": [
        "Identified as the **Negative** sentiment"
      ]
    },
    {
      "cell_type": "code",
      "metadata": {
        "id": "wyIXwXntG9U7",
        "colab_type": "code",
        "colab": {
          "base_uri": "https://localhost:8080/",
          "height": 35
        },
        "outputId": "476b01cc-6502-4a11-8ca5-6bfefb86d4be"
      },
      "source": [
        "learn.predict('The flight travel was excellent')"
      ],
      "execution_count": null,
      "outputs": [
        {
          "output_type": "execute_result",
          "data": {
            "text/plain": [
              "(Category tensor(2), tensor(2), tensor([0.1832, 0.1855, 0.6312]))"
            ]
          },
          "metadata": {
            "tags": []
          },
          "execution_count": 96
        }
      ]
    },
    {
      "cell_type": "markdown",
      "metadata": {
        "id": "EGCjB98_uJF4",
        "colab_type": "text"
      },
      "source": [
        "Identified as the **Positive** sentiment"
      ]
    },
    {
      "cell_type": "code",
      "metadata": {
        "id": "hS8XCv59HA0r",
        "colab_type": "code",
        "colab": {
          "base_uri": "https://localhost:8080/",
          "height": 35
        },
        "outputId": "9ca60484-cf51-493f-d620-868d69e13b08"
      },
      "source": [
        "learn.predict('The flight to new york goes via Washington DC')"
      ],
      "execution_count": null,
      "outputs": [
        {
          "output_type": "execute_result",
          "data": {
            "text/plain": [
              "(Category tensor(1), tensor(1), tensor([0.2812, 0.5738, 0.1450]))"
            ]
          },
          "metadata": {
            "tags": []
          },
          "execution_count": 97
        }
      ]
    },
    {
      "cell_type": "markdown",
      "metadata": {
        "id": "u67xrbJ3uMIc",
        "colab_type": "text"
      },
      "source": [
        "Identified as the **Neutral** sentiment"
      ]
    },
    {
      "cell_type": "markdown",
      "metadata": {
        "id": "-JC1bdwGHTTG",
        "colab_type": "text"
      },
      "source": [
        "If you can check the above cells, the model is pretty good with its predictions.\n",
        "\n",
        "Check for all the three use cases."
      ]
    },
    {
      "cell_type": "markdown",
      "metadata": {
        "id": "SZX7GunTHcqT",
        "colab_type": "text"
      },
      "source": [
        "***Accuracy Score***"
      ]
    },
    {
      "cell_type": "code",
      "metadata": {
        "colab_type": "code",
        "id": "BtsDqZRjwWWO",
        "colab": {
          "base_uri": "https://localhost:8080/",
          "height": 35
        },
        "outputId": "8f659ce8-81d9-4aad-8048-8b17de4ea67c"
      },
      "source": [
        "interp = TextClassificationInterpretation.from_learner(learn)\n",
        "acc = accuracy(interp.preds, interp.y_true)\n",
        "print('Accuracy: {0:.3f}'.format(acc))"
      ],
      "execution_count": null,
      "outputs": [
        {
          "output_type": "display_data",
          "data": {
            "text/html": [
              ""
            ],
            "text/plain": [
              "<IPython.core.display.HTML object>"
            ]
          },
          "metadata": {
            "tags": []
          }
        },
        {
          "output_type": "stream",
          "text": [
            "Accuracy: 0.829\n"
          ],
          "name": "stdout"
        }
      ]
    },
    {
      "cell_type": "markdown",
      "metadata": {
        "id": "uJUjAoshxIPd",
        "colab_type": "text"
      },
      "source": [
        "The Accuracy is around **83%**. This is the best one!"
      ]
    },
    {
      "cell_type": "markdown",
      "metadata": {
        "id": "y-sZP2ZYIcFE",
        "colab_type": "text"
      },
      "source": [
        "***Confusion Matrix***"
      ]
    },
    {
      "cell_type": "code",
      "metadata": {
        "colab_type": "code",
        "id": "1nLnKJHIwbYV",
        "colab": {
          "base_uri": "https://localhost:8080/",
          "height": 329
        },
        "outputId": "6258196a-f834-48b0-eb06-2b7ee40d6a7a"
      },
      "source": [
        "interp.plot_confusion_matrix()\n",
        "plt.title('Classifation Confusion Matrix')"
      ],
      "execution_count": null,
      "outputs": [
        {
          "output_type": "execute_result",
          "data": {
            "text/plain": [
              "Text(0.5, 1.0, 'Classifation Confusion Matrix')"
            ]
          },
          "metadata": {
            "tags": []
          },
          "execution_count": 92
        },
        {
          "output_type": "display_data",
          "data": {
            "image/png": "[encoded data removed]",
            "text/plain": [
              "<Figure size 432x288 with 1 Axes>"
            ]
          },
          "metadata": {
            "tags": [],
            "needs_background": "light"
          }
        }
      ]
    },
    {
      "cell_type": "markdown",
      "metadata": {
        "id": "W3SwyahQNYaQ",
        "colab_type": "text"
      },
      "source": [
        "Let's check where our model went wrong. "
      ]
    },
    {
      "cell_type": "code",
      "metadata": {
        "id": "7xZRm9cuTg57",
        "colab_type": "code",
        "colab": {
          "base_uri": "https://localhost:8080/",
          "height": 927
        },
        "outputId": "9c0d561d-e7c3-4c72-d28c-30135c1f78da"
      },
      "source": [
        "interp.show_top_losses(30)"
      ],
      "execution_count": null,
      "outputs": [
        {
          "output_type": "display_data",
          "data": {
            "text/html": [
              "<table border=\"1\" class=\"dataframe\">\n",
              "  <thead>\n",
              "    <tr style=\"text-align: right;\">\n",
              "      <th>Text</th>\n",
              "      <th>Prediction</th>\n",
              "      <th>Actual</th>\n",
              "      <th>Loss</th>\n",
              "      <th>Probability</th>\n",
              "    </tr>\n",
              "  </thead>\n",
              "  <tbody>\n",
              "    <tr>\n",
              "      <td>xxbos when will there be wifi on the dca stl route hour flight could use some love</td>\n",
              "      <td>neutral</td>\n",
              "      <td>negative</td>\n",
              "      <td>4.86</td>\n",
              "      <td>0.01</td>\n",
              "    </tr>\n",
              "    <tr>\n",
              "      <td>xxbos troubling news time to raise the bar on legroom</td>\n",
              "      <td>neutral</td>\n",
              "      <td>negative</td>\n",
              "      <td>4.21</td>\n",
              "      <td>0.01</td>\n",
              "    </tr>\n",
              "    <tr>\n",
              "      <td>xxbos thank you</td>\n",
              "      <td>positive</td>\n",
              "      <td>neutral</td>\n",
              "      <td>3.49</td>\n",
              "      <td>0.03</td>\n",
              "    </tr>\n",
              "    <tr>\n",
              "      <td>xxbos believe me i understand flight was originally booked for sunday flight was cancelled flighted and rescheduled for today</td>\n",
              "      <td>negative</td>\n",
              "      <td>positive</td>\n",
              "      <td>3.43</td>\n",
              "      <td>0.03</td>\n",
              "    </tr>\n",
              "    <tr>\n",
              "      <td>xxbos okay thanks</td>\n",
              "      <td>positive</td>\n",
              "      <td>neutral</td>\n",
              "      <td>3.40</td>\n",
              "      <td>0.03</td>\n",
              "    </tr>\n",
              "    <tr>\n",
              "      <td>xxbos thanks</td>\n",
              "      <td>positive</td>\n",
              "      <td>neutral</td>\n",
              "      <td>3.09</td>\n",
              "      <td>0.05</td>\n",
              "    </tr>\n",
              "    <tr>\n",
              "      <td>xxbos you ve been officially xxunk by for better flight experience pleasant cabin crew and xxunk ua m switching</td>\n",
              "      <td>positive</td>\n",
              "      <td>negative</td>\n",
              "      <td>3.09</td>\n",
              "      <td>0.05</td>\n",
              "    </tr>\n",
              "    <tr>\n",
              "      <td>xxbos is expiring the offer to buy or transfer united mileageplus miles with discount many offers during a year</td>\n",
              "      <td>neutral</td>\n",
              "      <td>positive</td>\n",
              "      <td>3.01</td>\n",
              "      <td>0.05</td>\n",
              "    </tr>\n",
              "    <tr>\n",
              "      <td>xxbos i especially like how you upgraded three of your crew members to first class instead of passengers xxunk customerservice</td>\n",
              "      <td>negative</td>\n",
              "      <td>positive</td>\n",
              "      <td>3.00</td>\n",
              "      <td>0.05</td>\n",
              "    </tr>\n",
              "    <tr>\n",
              "      <td>xxbos hi flight if i try and book a new one way flight departure shows up as pm which seems accurate</td>\n",
              "      <td>neutral</td>\n",
              "      <td>positive</td>\n",
              "      <td>2.99</td>\n",
              "      <td>0.05</td>\n",
              "    </tr>\n",
              "    <tr>\n",
              "      <td>xxbos instead of bourbon street how about quiet planes savethediagonals</td>\n",
              "      <td>negative</td>\n",
              "      <td>neutral</td>\n",
              "      <td>2.99</td>\n",
              "      <td>0.05</td>\n",
              "    </tr>\n",
              "    <tr>\n",
              "      <td>xxbos flights have been on time late flightly though</td>\n",
              "      <td>negative</td>\n",
              "      <td>positive</td>\n",
              "      <td>2.95</td>\n",
              "      <td>0.05</td>\n",
              "    </tr>\n",
              "    <tr>\n",
              "      <td>xxbos s ceo battles to appease passengers and wall street</td>\n",
              "      <td>neutral</td>\n",
              "      <td>negative</td>\n",
              "      <td>2.93</td>\n",
              "      <td>0.05</td>\n",
              "    </tr>\n",
              "    <tr>\n",
              "      <td>xxbos a little xxunk wouldn t hurt</td>\n",
              "      <td>negative</td>\n",
              "      <td>neutral</td>\n",
              "      <td>2.92</td>\n",
              "      <td>0.05</td>\n",
              "    </tr>\n",
              "    <tr>\n",
              "      <td>xxbos more or less after a night in a party hotel no sleep and a am rebook on our way back to phl</td>\n",
              "      <td>negative</td>\n",
              "      <td>neutral</td>\n",
              "      <td>2.81</td>\n",
              "      <td>0.06</td>\n",
              "    </tr>\n",
              "    <tr>\n",
              "      <td>xxbos thanks bae</td>\n",
              "      <td>positive</td>\n",
              "      <td>neutral</td>\n",
              "      <td>2.80</td>\n",
              "      <td>0.06</td>\n",
              "    </tr>\n",
              "    <tr>\n",
              "      <td>xxbos flying to lga in the dead of winter xxunk ewr amp jfk is always the intelligent option</td>\n",
              "      <td>positive</td>\n",
              "      <td>negative</td>\n",
              "      <td>2.65</td>\n",
              "      <td>0.07</td>\n",
              "    </tr>\n",
              "    <tr>\n",
              "      <td>xxbos our fleet s on fleek xxunk jetblue tell them</td>\n",
              "      <td>neutral</td>\n",
              "      <td>positive</td>\n",
              "      <td>2.61</td>\n",
              "      <td>0.07</td>\n",
              "    </tr>\n",
              "    <tr>\n",
              "      <td>xxbos i will send an email with details late flightr thank you for responding</td>\n",
              "      <td>neutral</td>\n",
              "      <td>negative</td>\n",
              "      <td>2.58</td>\n",
              "      <td>0.08</td>\n",
              "    </tr>\n",
              "    <tr>\n",
              "      <td>xxbos xxunk too late flight so very very sad</td>\n",
              "      <td>negative</td>\n",
              "      <td>neutral</td>\n",
              "      <td>2.55</td>\n",
              "      <td>0.08</td>\n",
              "    </tr>\n",
              "    <tr>\n",
              "      <td>xxbos ha this happened years ago i haven t flown with you since</td>\n",
              "      <td>negative</td>\n",
              "      <td>neutral</td>\n",
              "      <td>2.55</td>\n",
              "      <td>0.08</td>\n",
              "    </tr>\n",
              "    <tr>\n",
              "      <td>xxbos where is your email address its not on this page</td>\n",
              "      <td>negative</td>\n",
              "      <td>neutral</td>\n",
              "      <td>2.50</td>\n",
              "      <td>0.08</td>\n",
              "    </tr>\n",
              "    <tr>\n",
              "      <td>xxbos i you the only airline that understands us military families and our xxunk changes pound it</td>\n",
              "      <td>negative</td>\n",
              "      <td>positive</td>\n",
              "      <td>2.49</td>\n",
              "      <td>0.08</td>\n",
              "    </tr>\n",
              "    <tr>\n",
              "      <td>xxbos i m xxunk my data off for the flight i want some response by the time i land you have hours</td>\n",
              "      <td>negative</td>\n",
              "      <td>neutral</td>\n",
              "      <td>2.49</td>\n",
              "      <td>0.08</td>\n",
              "    </tr>\n",
              "    <tr>\n",
              "      <td>xxbos thanks for taking such good care of my luggage</td>\n",
              "      <td>positive</td>\n",
              "      <td>negative</td>\n",
              "      <td>2.49</td>\n",
              "      <td>0.08</td>\n",
              "    </tr>\n",
              "    <tr>\n",
              "      <td>xxbos no worries even though i was talking about seat assignment</td>\n",
              "      <td>negative</td>\n",
              "      <td>positive</td>\n",
              "      <td>2.45</td>\n",
              "      <td>0.09</td>\n",
              "    </tr>\n",
              "    <tr>\n",
              "      <td>xxbos i forgot that intl flights out of lax don t go from intl terminal easiest re check in ever woo</td>\n",
              "      <td>negative</td>\n",
              "      <td>positive</td>\n",
              "      <td>2.45</td>\n",
              "      <td>0.09</td>\n",
              "    </tr>\n",
              "    <tr>\n",
              "      <td>xxbos thank you for the quick response but i can not dm you until you follow me as well</td>\n",
              "      <td>positive</td>\n",
              "      <td>neutral</td>\n",
              "      <td>2.41</td>\n",
              "      <td>0.09</td>\n",
              "    </tr>\n",
              "    <tr>\n",
              "      <td>xxbos but in the meantime i ll be sleeping on a park bench on xxunk st thanks guys</td>\n",
              "      <td>positive</td>\n",
              "      <td>negative</td>\n",
              "      <td>2.38</td>\n",
              "      <td>0.09</td>\n",
              "    </tr>\n",
              "    <tr>\n",
              "      <td>xxbos thank you but it says the website is down</td>\n",
              "      <td>negative</td>\n",
              "      <td>neutral</td>\n",
              "      <td>2.38</td>\n",
              "      <td>0.09</td>\n",
              "    </tr>\n",
              "  </tbody>\n",
              "</table>"
            ],
            "text/plain": [
              "<IPython.core.display.HTML object>"
            ]
          },
          "metadata": {
            "tags": []
          }
        }
      ]
    },
    {
      "cell_type": "markdown",
      "metadata": {
        "id": "ddNjqJwAM-zQ",
        "colab_type": "text"
      },
      "source": [
        "The model often misclassified the \"neutral\" tweets as \"negative\" and the \"positive\" tweets as \"negative\". \n",
        "\n",
        "It's not certainly clear for the reason behind these mislabeled tweets, but one possible thing would be the \"contraction words\". We can still build a model more suited to the vocabulary and style of language which is used in the tweets. If we get a larger corpus, then probably we can improve the model."
      ]
    },
    {
      "cell_type": "markdown",
      "metadata": {
        "id": "JPDvSVhqIl4k",
        "colab_type": "text"
      },
      "source": [
        "## **Conclusion & Results**"
      ]
    },
    {
      "cell_type": "markdown",
      "metadata": {
        "id": "Zonh3x_RItqL",
        "colab_type": "text"
      },
      "source": [
        "\n",
        "\n",
        "> The results prove that the best model is with ULMFiT with an accuracy score of **83% (82.9%)**\n",
        "\n",
        "> Though the dataset was unbalanced, since it had a lot of negative reviews, when compared to positive and neutral reviews, the ULMFiT helped in predicting the sentiments very well.\n",
        "\n",
        "> During the text cleaning phase, the special characters, usernames, emoji icons, URL's were removed. \n",
        "\n",
        "> We didn't apply lemmatization and stop words in the final code, because the accuracy score went low while doing so. The accuracy score was **77%**\n",
        "\n",
        "> The accuracy score for the logistic regression was **80%**. However, the results of the precision and recall weren't very satisfying for the \"Positive sentiment tweets\" \n",
        "\n",
        "> Even the analysis with the **vadar method** weren't satisfying enough as you could see their results as well.\n",
        "\n",
        "> Even with the best model \"ULMFiT\", it couldn't handle cases of **sarcasm**.\n",
        "\n",
        "\n"
      ]
    }
  ]
}